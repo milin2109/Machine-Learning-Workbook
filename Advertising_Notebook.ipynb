{
  "cells": [
    {
      "cell_type": "markdown",
      "metadata": {
        "id": "view-in-github",
        "colab_type": "text"
      },
      "source": [
        "<a href=\"https://colab.research.google.com/github/milin2109/Machine-Learning-Workbook/blob/main/Advertising_Notebook.ipynb\" target=\"_parent\"><img src=\"https://colab.research.google.com/assets/colab-badge.svg\" alt=\"Open In Colab\"/></a>"
      ]
    },
    {
      "cell_type": "markdown",
      "metadata": {
        "id": "FbZx990QXnC9"
      },
      "source": [
        "# **Advertising Analysis**\n",
        "- Dataset: small with around 200 points\n",
        "- Business Problem: Try to predict Sales based on advertising budgets from TV, radio & newspaper media"
      ]
    },
    {
      "cell_type": "markdown",
      "metadata": {
        "id": "54BoGg0fYMQ-"
      },
      "source": [
        "## **Import Libraries:**\n"
      ]
    },
    {
      "cell_type": "code",
      "execution_count": 2,
      "metadata": {
        "id": "in6WPn0EYO2r"
      },
      "outputs": [],
      "source": [
        "import numpy as np # linear algebra\n",
        "import pandas as pd # data processing, CSV file I/O (e.g. pd.read_csv)\n",
        "import seaborn as sns\n",
        "import matplotlib.pyplot as plt\n",
        "import math"
      ]
    },
    {
      "cell_type": "code",
      "execution_count": 61,
      "metadata": {
        "id": "JIHtdg5Msg-Y"
      },
      "outputs": [],
      "source": [
        "import statsmodels.formula.api as smf\n",
        "import statsmodels.api as sm\n",
        "from sklearn.model_selection import train_test_split, cross_val_score, cross_validate, GridSearchCV\n",
        "from sklearn.compose import ColumnTransformer\n",
        "from sklearn.pipeline import Pipeline\n",
        "from sklearn.preprocessing import StandardScaler, MinMaxScaler, PolynomialFeatures\n",
        "from sklearn.linear_model import LinearRegression, ElasticNet\n",
        "from sklearn.metrics import mean_squared_error, r2_score\n",
        "from sklearn.svm import SVR\n",
        "from sklearn.tree import DecisionTreeRegressor\n",
        "from sklearn.ensemble import RandomForestRegressor"
      ]
    },
    {
      "cell_type": "markdown",
      "metadata": {
        "id": "tfP3mCBDYZU-"
      },
      "source": [
        "## **Load Dataset**"
      ]
    },
    {
      "cell_type": "code",
      "execution_count": 4,
      "metadata": {
        "colab": {
          "base_uri": "https://localhost:8080/",
          "height": 224
        },
        "id": "wP3rx4LHYXS6",
        "outputId": "5c8a6925-d572-4081-9778-21654c9ab0da"
      },
      "outputs": [
        {
          "output_type": "stream",
          "name": "stdout",
          "text": [
            "Mounted at /content/drive\n"
          ]
        },
        {
          "output_type": "execute_result",
          "data": {
            "text/plain": [
              "      TV  radio  newspaper  sales\n",
              "0  230.1   37.8       69.2   22.1\n",
              "1   44.5   39.3       45.1   10.4\n",
              "2   17.2   45.9       69.3    9.3\n",
              "3  151.5   41.3       58.5   18.5\n",
              "4  180.8   10.8       58.4   12.9"
            ],
            "text/html": [
              "\n",
              "  <div id=\"df-c69a9c47-8afc-42a5-95c7-5a6a71524d58\" class=\"colab-df-container\">\n",
              "    <div>\n",
              "<style scoped>\n",
              "    .dataframe tbody tr th:only-of-type {\n",
              "        vertical-align: middle;\n",
              "    }\n",
              "\n",
              "    .dataframe tbody tr th {\n",
              "        vertical-align: top;\n",
              "    }\n",
              "\n",
              "    .dataframe thead th {\n",
              "        text-align: right;\n",
              "    }\n",
              "</style>\n",
              "<table border=\"1\" class=\"dataframe\">\n",
              "  <thead>\n",
              "    <tr style=\"text-align: right;\">\n",
              "      <th></th>\n",
              "      <th>TV</th>\n",
              "      <th>radio</th>\n",
              "      <th>newspaper</th>\n",
              "      <th>sales</th>\n",
              "    </tr>\n",
              "  </thead>\n",
              "  <tbody>\n",
              "    <tr>\n",
              "      <th>0</th>\n",
              "      <td>230.1</td>\n",
              "      <td>37.8</td>\n",
              "      <td>69.2</td>\n",
              "      <td>22.1</td>\n",
              "    </tr>\n",
              "    <tr>\n",
              "      <th>1</th>\n",
              "      <td>44.5</td>\n",
              "      <td>39.3</td>\n",
              "      <td>45.1</td>\n",
              "      <td>10.4</td>\n",
              "    </tr>\n",
              "    <tr>\n",
              "      <th>2</th>\n",
              "      <td>17.2</td>\n",
              "      <td>45.9</td>\n",
              "      <td>69.3</td>\n",
              "      <td>9.3</td>\n",
              "    </tr>\n",
              "    <tr>\n",
              "      <th>3</th>\n",
              "      <td>151.5</td>\n",
              "      <td>41.3</td>\n",
              "      <td>58.5</td>\n",
              "      <td>18.5</td>\n",
              "    </tr>\n",
              "    <tr>\n",
              "      <th>4</th>\n",
              "      <td>180.8</td>\n",
              "      <td>10.8</td>\n",
              "      <td>58.4</td>\n",
              "      <td>12.9</td>\n",
              "    </tr>\n",
              "  </tbody>\n",
              "</table>\n",
              "</div>\n",
              "    <div class=\"colab-df-buttons\">\n",
              "\n",
              "  <div class=\"colab-df-container\">\n",
              "    <button class=\"colab-df-convert\" onclick=\"convertToInteractive('df-c69a9c47-8afc-42a5-95c7-5a6a71524d58')\"\n",
              "            title=\"Convert this dataframe to an interactive table.\"\n",
              "            style=\"display:none;\">\n",
              "\n",
              "  <svg xmlns=\"http://www.w3.org/2000/svg\" height=\"24px\" viewBox=\"0 -960 960 960\">\n",
              "    <path d=\"M120-120v-720h720v720H120Zm60-500h600v-160H180v160Zm220 220h160v-160H400v160Zm0 220h160v-160H400v160ZM180-400h160v-160H180v160Zm440 0h160v-160H620v160ZM180-180h160v-160H180v160Zm440 0h160v-160H620v160Z\"/>\n",
              "  </svg>\n",
              "    </button>\n",
              "\n",
              "  <style>\n",
              "    .colab-df-container {\n",
              "      display:flex;\n",
              "      gap: 12px;\n",
              "    }\n",
              "\n",
              "    .colab-df-convert {\n",
              "      background-color: #E8F0FE;\n",
              "      border: none;\n",
              "      border-radius: 50%;\n",
              "      cursor: pointer;\n",
              "      display: none;\n",
              "      fill: #1967D2;\n",
              "      height: 32px;\n",
              "      padding: 0 0 0 0;\n",
              "      width: 32px;\n",
              "    }\n",
              "\n",
              "    .colab-df-convert:hover {\n",
              "      background-color: #E2EBFA;\n",
              "      box-shadow: 0px 1px 2px rgba(60, 64, 67, 0.3), 0px 1px 3px 1px rgba(60, 64, 67, 0.15);\n",
              "      fill: #174EA6;\n",
              "    }\n",
              "\n",
              "    .colab-df-buttons div {\n",
              "      margin-bottom: 4px;\n",
              "    }\n",
              "\n",
              "    [theme=dark] .colab-df-convert {\n",
              "      background-color: #3B4455;\n",
              "      fill: #D2E3FC;\n",
              "    }\n",
              "\n",
              "    [theme=dark] .colab-df-convert:hover {\n",
              "      background-color: #434B5C;\n",
              "      box-shadow: 0px 1px 3px 1px rgba(0, 0, 0, 0.15);\n",
              "      filter: drop-shadow(0px 1px 2px rgba(0, 0, 0, 0.3));\n",
              "      fill: #FFFFFF;\n",
              "    }\n",
              "  </style>\n",
              "\n",
              "    <script>\n",
              "      const buttonEl =\n",
              "        document.querySelector('#df-c69a9c47-8afc-42a5-95c7-5a6a71524d58 button.colab-df-convert');\n",
              "      buttonEl.style.display =\n",
              "        google.colab.kernel.accessAllowed ? 'block' : 'none';\n",
              "\n",
              "      async function convertToInteractive(key) {\n",
              "        const element = document.querySelector('#df-c69a9c47-8afc-42a5-95c7-5a6a71524d58');\n",
              "        const dataTable =\n",
              "          await google.colab.kernel.invokeFunction('convertToInteractive',\n",
              "                                                    [key], {});\n",
              "        if (!dataTable) return;\n",
              "\n",
              "        const docLinkHtml = 'Like what you see? Visit the ' +\n",
              "          '<a target=\"_blank\" href=https://colab.research.google.com/notebooks/data_table.ipynb>data table notebook</a>'\n",
              "          + ' to learn more about interactive tables.';\n",
              "        element.innerHTML = '';\n",
              "        dataTable['output_type'] = 'display_data';\n",
              "        await google.colab.output.renderOutput(dataTable, element);\n",
              "        const docLink = document.createElement('div');\n",
              "        docLink.innerHTML = docLinkHtml;\n",
              "        element.appendChild(docLink);\n",
              "      }\n",
              "    </script>\n",
              "  </div>\n",
              "\n",
              "\n",
              "<div id=\"df-cd8af914-e475-4c63-8d7b-aed8764aaeb3\">\n",
              "  <button class=\"colab-df-quickchart\" onclick=\"quickchart('df-cd8af914-e475-4c63-8d7b-aed8764aaeb3')\"\n",
              "            title=\"Suggest charts\"\n",
              "            style=\"display:none;\">\n",
              "\n",
              "<svg xmlns=\"http://www.w3.org/2000/svg\" height=\"24px\"viewBox=\"0 0 24 24\"\n",
              "     width=\"24px\">\n",
              "    <g>\n",
              "        <path d=\"M19 3H5c-1.1 0-2 .9-2 2v14c0 1.1.9 2 2 2h14c1.1 0 2-.9 2-2V5c0-1.1-.9-2-2-2zM9 17H7v-7h2v7zm4 0h-2V7h2v10zm4 0h-2v-4h2v4z\"/>\n",
              "    </g>\n",
              "</svg>\n",
              "  </button>\n",
              "\n",
              "<style>\n",
              "  .colab-df-quickchart {\n",
              "      --bg-color: #E8F0FE;\n",
              "      --fill-color: #1967D2;\n",
              "      --hover-bg-color: #E2EBFA;\n",
              "      --hover-fill-color: #174EA6;\n",
              "      --disabled-fill-color: #AAA;\n",
              "      --disabled-bg-color: #DDD;\n",
              "  }\n",
              "\n",
              "  [theme=dark] .colab-df-quickchart {\n",
              "      --bg-color: #3B4455;\n",
              "      --fill-color: #D2E3FC;\n",
              "      --hover-bg-color: #434B5C;\n",
              "      --hover-fill-color: #FFFFFF;\n",
              "      --disabled-bg-color: #3B4455;\n",
              "      --disabled-fill-color: #666;\n",
              "  }\n",
              "\n",
              "  .colab-df-quickchart {\n",
              "    background-color: var(--bg-color);\n",
              "    border: none;\n",
              "    border-radius: 50%;\n",
              "    cursor: pointer;\n",
              "    display: none;\n",
              "    fill: var(--fill-color);\n",
              "    height: 32px;\n",
              "    padding: 0;\n",
              "    width: 32px;\n",
              "  }\n",
              "\n",
              "  .colab-df-quickchart:hover {\n",
              "    background-color: var(--hover-bg-color);\n",
              "    box-shadow: 0 1px 2px rgba(60, 64, 67, 0.3), 0 1px 3px 1px rgba(60, 64, 67, 0.15);\n",
              "    fill: var(--button-hover-fill-color);\n",
              "  }\n",
              "\n",
              "  .colab-df-quickchart-complete:disabled,\n",
              "  .colab-df-quickchart-complete:disabled:hover {\n",
              "    background-color: var(--disabled-bg-color);\n",
              "    fill: var(--disabled-fill-color);\n",
              "    box-shadow: none;\n",
              "  }\n",
              "\n",
              "  .colab-df-spinner {\n",
              "    border: 2px solid var(--fill-color);\n",
              "    border-color: transparent;\n",
              "    border-bottom-color: var(--fill-color);\n",
              "    animation:\n",
              "      spin 1s steps(1) infinite;\n",
              "  }\n",
              "\n",
              "  @keyframes spin {\n",
              "    0% {\n",
              "      border-color: transparent;\n",
              "      border-bottom-color: var(--fill-color);\n",
              "      border-left-color: var(--fill-color);\n",
              "    }\n",
              "    20% {\n",
              "      border-color: transparent;\n",
              "      border-left-color: var(--fill-color);\n",
              "      border-top-color: var(--fill-color);\n",
              "    }\n",
              "    30% {\n",
              "      border-color: transparent;\n",
              "      border-left-color: var(--fill-color);\n",
              "      border-top-color: var(--fill-color);\n",
              "      border-right-color: var(--fill-color);\n",
              "    }\n",
              "    40% {\n",
              "      border-color: transparent;\n",
              "      border-right-color: var(--fill-color);\n",
              "      border-top-color: var(--fill-color);\n",
              "    }\n",
              "    60% {\n",
              "      border-color: transparent;\n",
              "      border-right-color: var(--fill-color);\n",
              "    }\n",
              "    80% {\n",
              "      border-color: transparent;\n",
              "      border-right-color: var(--fill-color);\n",
              "      border-bottom-color: var(--fill-color);\n",
              "    }\n",
              "    90% {\n",
              "      border-color: transparent;\n",
              "      border-bottom-color: var(--fill-color);\n",
              "    }\n",
              "  }\n",
              "</style>\n",
              "\n",
              "  <script>\n",
              "    async function quickchart(key) {\n",
              "      const quickchartButtonEl =\n",
              "        document.querySelector('#' + key + ' button');\n",
              "      quickchartButtonEl.disabled = true;  // To prevent multiple clicks.\n",
              "      quickchartButtonEl.classList.add('colab-df-spinner');\n",
              "      try {\n",
              "        const charts = await google.colab.kernel.invokeFunction(\n",
              "            'suggestCharts', [key], {});\n",
              "      } catch (error) {\n",
              "        console.error('Error during call to suggestCharts:', error);\n",
              "      }\n",
              "      quickchartButtonEl.classList.remove('colab-df-spinner');\n",
              "      quickchartButtonEl.classList.add('colab-df-quickchart-complete');\n",
              "    }\n",
              "    (() => {\n",
              "      let quickchartButtonEl =\n",
              "        document.querySelector('#df-cd8af914-e475-4c63-8d7b-aed8764aaeb3 button');\n",
              "      quickchartButtonEl.style.display =\n",
              "        google.colab.kernel.accessAllowed ? 'block' : 'none';\n",
              "    })();\n",
              "  </script>\n",
              "</div>\n",
              "\n",
              "    </div>\n",
              "  </div>\n"
            ]
          },
          "metadata": {},
          "execution_count": 4
        }
      ],
      "source": [
        "from google.colab import drive\n",
        "drive.mount('/content/drive')\n",
        "df = pd.read_csv(\"drive/My Drive/ColabNotebooks/Python_Practice_Notebook/Linear_Regression/dataset/Advertising.csv\")\n",
        "df.head()"
      ]
    },
    {
      "cell_type": "code",
      "execution_count": 5,
      "metadata": {
        "colab": {
          "base_uri": "https://localhost:8080/"
        },
        "id": "XhUlp136iw6L",
        "outputId": "855fb749-a16b-418a-90b3-e5a9223f4f4d"
      },
      "outputs": [
        {
          "output_type": "stream",
          "name": "stdout",
          "text": [
            "<class 'pandas.core.frame.DataFrame'>\n",
            "RangeIndex: 200 entries, 0 to 199\n",
            "Data columns (total 4 columns):\n",
            " #   Column     Non-Null Count  Dtype  \n",
            "---  ------     --------------  -----  \n",
            " 0   TV         200 non-null    float64\n",
            " 1   radio      200 non-null    float64\n",
            " 2   newspaper  200 non-null    float64\n",
            " 3   sales      200 non-null    float64\n",
            "dtypes: float64(4)\n",
            "memory usage: 6.4 KB\n"
          ]
        }
      ],
      "source": [
        "df.info()"
      ]
    },
    {
      "cell_type": "code",
      "execution_count": 6,
      "metadata": {
        "colab": {
          "base_uri": "https://localhost:8080/",
          "height": 300
        },
        "id": "eEbawPdWizUO",
        "outputId": "9398c539-d85c-4cea-c5bb-7a752397eecf"
      },
      "outputs": [
        {
          "output_type": "execute_result",
          "data": {
            "text/plain": [
              "               TV       radio   newspaper       sales\n",
              "count  200.000000  200.000000  200.000000  200.000000\n",
              "mean   147.042500   23.264000   30.554000   14.022500\n",
              "std     85.854236   14.846809   21.778621    5.217457\n",
              "min      0.700000    0.000000    0.300000    1.600000\n",
              "25%     74.375000    9.975000   12.750000   10.375000\n",
              "50%    149.750000   22.900000   25.750000   12.900000\n",
              "75%    218.825000   36.525000   45.100000   17.400000\n",
              "max    296.400000   49.600000  114.000000   27.000000"
            ],
            "text/html": [
              "\n",
              "  <div id=\"df-8da3ed38-f79a-435a-8610-aa8cee84b15e\" class=\"colab-df-container\">\n",
              "    <div>\n",
              "<style scoped>\n",
              "    .dataframe tbody tr th:only-of-type {\n",
              "        vertical-align: middle;\n",
              "    }\n",
              "\n",
              "    .dataframe tbody tr th {\n",
              "        vertical-align: top;\n",
              "    }\n",
              "\n",
              "    .dataframe thead th {\n",
              "        text-align: right;\n",
              "    }\n",
              "</style>\n",
              "<table border=\"1\" class=\"dataframe\">\n",
              "  <thead>\n",
              "    <tr style=\"text-align: right;\">\n",
              "      <th></th>\n",
              "      <th>TV</th>\n",
              "      <th>radio</th>\n",
              "      <th>newspaper</th>\n",
              "      <th>sales</th>\n",
              "    </tr>\n",
              "  </thead>\n",
              "  <tbody>\n",
              "    <tr>\n",
              "      <th>count</th>\n",
              "      <td>200.000000</td>\n",
              "      <td>200.000000</td>\n",
              "      <td>200.000000</td>\n",
              "      <td>200.000000</td>\n",
              "    </tr>\n",
              "    <tr>\n",
              "      <th>mean</th>\n",
              "      <td>147.042500</td>\n",
              "      <td>23.264000</td>\n",
              "      <td>30.554000</td>\n",
              "      <td>14.022500</td>\n",
              "    </tr>\n",
              "    <tr>\n",
              "      <th>std</th>\n",
              "      <td>85.854236</td>\n",
              "      <td>14.846809</td>\n",
              "      <td>21.778621</td>\n",
              "      <td>5.217457</td>\n",
              "    </tr>\n",
              "    <tr>\n",
              "      <th>min</th>\n",
              "      <td>0.700000</td>\n",
              "      <td>0.000000</td>\n",
              "      <td>0.300000</td>\n",
              "      <td>1.600000</td>\n",
              "    </tr>\n",
              "    <tr>\n",
              "      <th>25%</th>\n",
              "      <td>74.375000</td>\n",
              "      <td>9.975000</td>\n",
              "      <td>12.750000</td>\n",
              "      <td>10.375000</td>\n",
              "    </tr>\n",
              "    <tr>\n",
              "      <th>50%</th>\n",
              "      <td>149.750000</td>\n",
              "      <td>22.900000</td>\n",
              "      <td>25.750000</td>\n",
              "      <td>12.900000</td>\n",
              "    </tr>\n",
              "    <tr>\n",
              "      <th>75%</th>\n",
              "      <td>218.825000</td>\n",
              "      <td>36.525000</td>\n",
              "      <td>45.100000</td>\n",
              "      <td>17.400000</td>\n",
              "    </tr>\n",
              "    <tr>\n",
              "      <th>max</th>\n",
              "      <td>296.400000</td>\n",
              "      <td>49.600000</td>\n",
              "      <td>114.000000</td>\n",
              "      <td>27.000000</td>\n",
              "    </tr>\n",
              "  </tbody>\n",
              "</table>\n",
              "</div>\n",
              "    <div class=\"colab-df-buttons\">\n",
              "\n",
              "  <div class=\"colab-df-container\">\n",
              "    <button class=\"colab-df-convert\" onclick=\"convertToInteractive('df-8da3ed38-f79a-435a-8610-aa8cee84b15e')\"\n",
              "            title=\"Convert this dataframe to an interactive table.\"\n",
              "            style=\"display:none;\">\n",
              "\n",
              "  <svg xmlns=\"http://www.w3.org/2000/svg\" height=\"24px\" viewBox=\"0 -960 960 960\">\n",
              "    <path d=\"M120-120v-720h720v720H120Zm60-500h600v-160H180v160Zm220 220h160v-160H400v160Zm0 220h160v-160H400v160ZM180-400h160v-160H180v160Zm440 0h160v-160H620v160ZM180-180h160v-160H180v160Zm440 0h160v-160H620v160Z\"/>\n",
              "  </svg>\n",
              "    </button>\n",
              "\n",
              "  <style>\n",
              "    .colab-df-container {\n",
              "      display:flex;\n",
              "      gap: 12px;\n",
              "    }\n",
              "\n",
              "    .colab-df-convert {\n",
              "      background-color: #E8F0FE;\n",
              "      border: none;\n",
              "      border-radius: 50%;\n",
              "      cursor: pointer;\n",
              "      display: none;\n",
              "      fill: #1967D2;\n",
              "      height: 32px;\n",
              "      padding: 0 0 0 0;\n",
              "      width: 32px;\n",
              "    }\n",
              "\n",
              "    .colab-df-convert:hover {\n",
              "      background-color: #E2EBFA;\n",
              "      box-shadow: 0px 1px 2px rgba(60, 64, 67, 0.3), 0px 1px 3px 1px rgba(60, 64, 67, 0.15);\n",
              "      fill: #174EA6;\n",
              "    }\n",
              "\n",
              "    .colab-df-buttons div {\n",
              "      margin-bottom: 4px;\n",
              "    }\n",
              "\n",
              "    [theme=dark] .colab-df-convert {\n",
              "      background-color: #3B4455;\n",
              "      fill: #D2E3FC;\n",
              "    }\n",
              "\n",
              "    [theme=dark] .colab-df-convert:hover {\n",
              "      background-color: #434B5C;\n",
              "      box-shadow: 0px 1px 3px 1px rgba(0, 0, 0, 0.15);\n",
              "      filter: drop-shadow(0px 1px 2px rgba(0, 0, 0, 0.3));\n",
              "      fill: #FFFFFF;\n",
              "    }\n",
              "  </style>\n",
              "\n",
              "    <script>\n",
              "      const buttonEl =\n",
              "        document.querySelector('#df-8da3ed38-f79a-435a-8610-aa8cee84b15e button.colab-df-convert');\n",
              "      buttonEl.style.display =\n",
              "        google.colab.kernel.accessAllowed ? 'block' : 'none';\n",
              "\n",
              "      async function convertToInteractive(key) {\n",
              "        const element = document.querySelector('#df-8da3ed38-f79a-435a-8610-aa8cee84b15e');\n",
              "        const dataTable =\n",
              "          await google.colab.kernel.invokeFunction('convertToInteractive',\n",
              "                                                    [key], {});\n",
              "        if (!dataTable) return;\n",
              "\n",
              "        const docLinkHtml = 'Like what you see? Visit the ' +\n",
              "          '<a target=\"_blank\" href=https://colab.research.google.com/notebooks/data_table.ipynb>data table notebook</a>'\n",
              "          + ' to learn more about interactive tables.';\n",
              "        element.innerHTML = '';\n",
              "        dataTable['output_type'] = 'display_data';\n",
              "        await google.colab.output.renderOutput(dataTable, element);\n",
              "        const docLink = document.createElement('div');\n",
              "        docLink.innerHTML = docLinkHtml;\n",
              "        element.appendChild(docLink);\n",
              "      }\n",
              "    </script>\n",
              "  </div>\n",
              "\n",
              "\n",
              "<div id=\"df-5759d89d-2372-4a81-b6eb-dc60a88d76e0\">\n",
              "  <button class=\"colab-df-quickchart\" onclick=\"quickchart('df-5759d89d-2372-4a81-b6eb-dc60a88d76e0')\"\n",
              "            title=\"Suggest charts\"\n",
              "            style=\"display:none;\">\n",
              "\n",
              "<svg xmlns=\"http://www.w3.org/2000/svg\" height=\"24px\"viewBox=\"0 0 24 24\"\n",
              "     width=\"24px\">\n",
              "    <g>\n",
              "        <path d=\"M19 3H5c-1.1 0-2 .9-2 2v14c0 1.1.9 2 2 2h14c1.1 0 2-.9 2-2V5c0-1.1-.9-2-2-2zM9 17H7v-7h2v7zm4 0h-2V7h2v10zm4 0h-2v-4h2v4z\"/>\n",
              "    </g>\n",
              "</svg>\n",
              "  </button>\n",
              "\n",
              "<style>\n",
              "  .colab-df-quickchart {\n",
              "      --bg-color: #E8F0FE;\n",
              "      --fill-color: #1967D2;\n",
              "      --hover-bg-color: #E2EBFA;\n",
              "      --hover-fill-color: #174EA6;\n",
              "      --disabled-fill-color: #AAA;\n",
              "      --disabled-bg-color: #DDD;\n",
              "  }\n",
              "\n",
              "  [theme=dark] .colab-df-quickchart {\n",
              "      --bg-color: #3B4455;\n",
              "      --fill-color: #D2E3FC;\n",
              "      --hover-bg-color: #434B5C;\n",
              "      --hover-fill-color: #FFFFFF;\n",
              "      --disabled-bg-color: #3B4455;\n",
              "      --disabled-fill-color: #666;\n",
              "  }\n",
              "\n",
              "  .colab-df-quickchart {\n",
              "    background-color: var(--bg-color);\n",
              "    border: none;\n",
              "    border-radius: 50%;\n",
              "    cursor: pointer;\n",
              "    display: none;\n",
              "    fill: var(--fill-color);\n",
              "    height: 32px;\n",
              "    padding: 0;\n",
              "    width: 32px;\n",
              "  }\n",
              "\n",
              "  .colab-df-quickchart:hover {\n",
              "    background-color: var(--hover-bg-color);\n",
              "    box-shadow: 0 1px 2px rgba(60, 64, 67, 0.3), 0 1px 3px 1px rgba(60, 64, 67, 0.15);\n",
              "    fill: var(--button-hover-fill-color);\n",
              "  }\n",
              "\n",
              "  .colab-df-quickchart-complete:disabled,\n",
              "  .colab-df-quickchart-complete:disabled:hover {\n",
              "    background-color: var(--disabled-bg-color);\n",
              "    fill: var(--disabled-fill-color);\n",
              "    box-shadow: none;\n",
              "  }\n",
              "\n",
              "  .colab-df-spinner {\n",
              "    border: 2px solid var(--fill-color);\n",
              "    border-color: transparent;\n",
              "    border-bottom-color: var(--fill-color);\n",
              "    animation:\n",
              "      spin 1s steps(1) infinite;\n",
              "  }\n",
              "\n",
              "  @keyframes spin {\n",
              "    0% {\n",
              "      border-color: transparent;\n",
              "      border-bottom-color: var(--fill-color);\n",
              "      border-left-color: var(--fill-color);\n",
              "    }\n",
              "    20% {\n",
              "      border-color: transparent;\n",
              "      border-left-color: var(--fill-color);\n",
              "      border-top-color: var(--fill-color);\n",
              "    }\n",
              "    30% {\n",
              "      border-color: transparent;\n",
              "      border-left-color: var(--fill-color);\n",
              "      border-top-color: var(--fill-color);\n",
              "      border-right-color: var(--fill-color);\n",
              "    }\n",
              "    40% {\n",
              "      border-color: transparent;\n",
              "      border-right-color: var(--fill-color);\n",
              "      border-top-color: var(--fill-color);\n",
              "    }\n",
              "    60% {\n",
              "      border-color: transparent;\n",
              "      border-right-color: var(--fill-color);\n",
              "    }\n",
              "    80% {\n",
              "      border-color: transparent;\n",
              "      border-right-color: var(--fill-color);\n",
              "      border-bottom-color: var(--fill-color);\n",
              "    }\n",
              "    90% {\n",
              "      border-color: transparent;\n",
              "      border-bottom-color: var(--fill-color);\n",
              "    }\n",
              "  }\n",
              "</style>\n",
              "\n",
              "  <script>\n",
              "    async function quickchart(key) {\n",
              "      const quickchartButtonEl =\n",
              "        document.querySelector('#' + key + ' button');\n",
              "      quickchartButtonEl.disabled = true;  // To prevent multiple clicks.\n",
              "      quickchartButtonEl.classList.add('colab-df-spinner');\n",
              "      try {\n",
              "        const charts = await google.colab.kernel.invokeFunction(\n",
              "            'suggestCharts', [key], {});\n",
              "      } catch (error) {\n",
              "        console.error('Error during call to suggestCharts:', error);\n",
              "      }\n",
              "      quickchartButtonEl.classList.remove('colab-df-spinner');\n",
              "      quickchartButtonEl.classList.add('colab-df-quickchart-complete');\n",
              "    }\n",
              "    (() => {\n",
              "      let quickchartButtonEl =\n",
              "        document.querySelector('#df-5759d89d-2372-4a81-b6eb-dc60a88d76e0 button');\n",
              "      quickchartButtonEl.style.display =\n",
              "        google.colab.kernel.accessAllowed ? 'block' : 'none';\n",
              "    })();\n",
              "  </script>\n",
              "</div>\n",
              "\n",
              "    </div>\n",
              "  </div>\n"
            ]
          },
          "metadata": {},
          "execution_count": 6
        }
      ],
      "source": [
        "df.describe()"
      ]
    },
    {
      "cell_type": "markdown",
      "metadata": {
        "id": "iRYQLdwljlfF"
      },
      "source": [
        "**Insights:**\n",
        "- There's all numerical values (with diferrent scale) and the dataset is very small"
      ]
    },
    {
      "cell_type": "markdown",
      "metadata": {
        "id": "rYGVxLvAj05U"
      },
      "source": [
        "## **Exploratory Data Analysis**"
      ]
    },
    {
      "cell_type": "markdown",
      "metadata": {
        "id": "sx-aUCvPkblM"
      },
      "source": [
        "### Independent Variables:"
      ]
    },
    {
      "cell_type": "code",
      "execution_count": 7,
      "metadata": {
        "colab": {
          "base_uri": "https://localhost:8080/",
          "height": 452
        },
        "id": "H2F2QdZPj6jf",
        "outputId": "78c4846c-4163-4ef7-9c17-a92ef95becea"
      },
      "outputs": [
        {
          "output_type": "display_data",
          "data": {
            "text/plain": [
              "<Figure size 640x480 with 1 Axes>"
            ],
            "image/png": "[encoded data removed]"
          },
          "metadata": {}
        }
      ],
      "source": [
        "df['TV'].plot(kind='kde')\n",
        "df['radio'].plot(kind='kde')\n",
        "df['newspaper'].plot(kind='kde')\n",
        "plt.title('Distribution of Independent Variables')\n",
        "plt.legend();"
      ]
    },
    {
      "cell_type": "markdown",
      "metadata": {
        "id": "jKguxdYOmUL7"
      },
      "source": [
        "**Insights:**\n",
        "- Overall, TV & Radio distribution is not followed Normal, except for Newspaper which has a right skew (mean > median)\n",
        "- TV data is pretty sparse, with data is all around the place and not concentrated on one specific peak"
      ]
    },
    {
      "cell_type": "markdown",
      "metadata": {
        "id": "M5A_Auj6pXGB"
      },
      "source": [
        "## Target Variable"
      ]
    },
    {
      "cell_type": "code",
      "execution_count": 8,
      "metadata": {
        "colab": {
          "base_uri": "https://localhost:8080/",
          "height": 469
        },
        "id": "vEdLZJrri-Pf",
        "outputId": "0c5e5bfb-966f-4e0d-fdb8-167721ed880b"
      },
      "outputs": [
        {
          "output_type": "execute_result",
          "data": {
            "text/plain": [
              "Text(0.5, 1.0, 'Distribution of Target Variables')"
            ]
          },
          "metadata": {},
          "execution_count": 8
        },
        {
          "output_type": "display_data",
          "data": {
            "text/plain": [
              "<Figure size 640x480 with 1 Axes>"
            ],
            "image/png": "[encoded data removed]"
          },
          "metadata": {}
        }
      ],
      "source": [
        "df['sales'].plot(kind='kde')\n",
        "plt.title('Distribution of Target Variables')"
      ]
    },
    {
      "cell_type": "markdown",
      "metadata": {
        "id": "9W_8Fi7Lpo-l"
      },
      "source": [
        "**Insights:**\n",
        "- Target Varaible has a Bell curved and looks Normal Distribution, with a right skew (mean > median)"
      ]
    },
    {
      "cell_type": "markdown",
      "metadata": {
        "id": "pE6BIeF5p1-u"
      },
      "source": [
        "## Relationship between Target & Independent Variables:"
      ]
    },
    {
      "cell_type": "code",
      "execution_count": 9,
      "metadata": {
        "colab": {
          "base_uri": "https://localhost:8080/",
          "height": 452
        },
        "id": "QavLlWUBp7Ts",
        "outputId": "9a7243d7-13c1-4e5d-d4fb-f2fec8e6aa9d"
      },
      "outputs": [
        {
          "output_type": "execute_result",
          "data": {
            "text/plain": [
              "<Axes: >"
            ]
          },
          "metadata": {},
          "execution_count": 9
        },
        {
          "output_type": "display_data",
          "data": {
            "text/plain": [
              "<Figure size 640x480 with 2 Axes>"
            ],
            "image/png": "[encoded data removed]"
          },
          "metadata": {}
        }
      ],
      "source": [
        "sns.heatmap(df.corr().round(2), annot=True, cmap = 'viridis')"
      ]
    },
    {
      "cell_type": "code",
      "execution_count": 10,
      "metadata": {
        "colab": {
          "base_uri": "https://localhost:8080/",
          "height": 466
        },
        "id": "CQMeP0TWp7We",
        "outputId": "8f492988-fd1a-429f-8427-8c2977aa1859"
      },
      "outputs": [
        {
          "output_type": "display_data",
          "data": {
            "text/plain": [
              "<Figure size 1350x450 with 3 Axes>"
            ],
            "image/png": "[encoded data removed]"
          },
          "metadata": {}
        }
      ],
      "source": [
        "fig, ax = plt.subplots(nrows=1, ncols=3, figsize = (5 * 3,  5), dpi = 90)\n",
        "sns.scatterplot(data=df, x='TV', y='sales',ax=ax[0])\n",
        "sns.scatterplot(data=df, x='radio', y='sales',ax=ax[1])\n",
        "sns.scatterplot(data=df, x='newspaper', y='sales',ax=ax[2])\n",
        "plt.suptitle('Relationship between Target & Features');"
      ]
    },
    {
      "cell_type": "markdown",
      "metadata": {
        "id": "OkUTt6zirlD5"
      },
      "source": [
        "**Insights:**\n",
        "- According to both correlation matrix & scatterplot, we can see that **TV** has the strongest positive correlation to Sales (0.78), while **radio** also has a moderate positive relationshop to Sales (0.58)\n",
        "- However, **newspaper** has a rather weak positive relationship and there are no visibly trend to be spotted in scatterplot\n",
        "- There's no strong correlationship between independent variables\n",
        "- There are 2 outliers that can be visible in scatterplot for newspaper (>= 100)"
      ]
    },
    {
      "cell_type": "markdown",
      "metadata": {
        "id": "2OY4-U3n1E-E"
      },
      "source": [
        "## **Data Preprocessing**"
      ]
    },
    {
      "cell_type": "markdown",
      "metadata": {
        "id": "65tZLZNC1Ofw"
      },
      "source": [
        "### Mising Values"
      ]
    },
    {
      "cell_type": "code",
      "execution_count": 11,
      "metadata": {
        "colab": {
          "base_uri": "https://localhost:8080/"
        },
        "id": "X4IlmwMv1Cqe",
        "outputId": "bc354744-14b9-4257-94ca-43ae452536bc"
      },
      "outputs": [
        {
          "output_type": "execute_result",
          "data": {
            "text/plain": [
              "TV           0\n",
              "radio        0\n",
              "newspaper    0\n",
              "sales        0\n",
              "dtype: int64"
            ]
          },
          "metadata": {},
          "execution_count": 11
        }
      ],
      "source": [
        "df.isnull().sum()\n",
        "# There's no null values"
      ]
    },
    {
      "cell_type": "markdown",
      "metadata": {
        "id": "FkvVwNu51adI"
      },
      "source": [
        "### Outliers\n",
        "- should only be applied for training dataset; to avoid data leakage"
      ]
    },
    {
      "cell_type": "code",
      "execution_count": 12,
      "metadata": {
        "id": "O4yoa0LA1apH"
      },
      "outputs": [],
      "source": [
        "# Detect outliers using IQR\n",
        "def detect_outliers(X_train, y_train, columns):\n",
        "  df = pd.concat([X_train, y_train], axis=1)\n",
        "  data = df[columns]\n",
        "\n",
        "  q1, q3 = np.percentile(data, [25,75])\n",
        "  IQR = q3 - q1\n",
        "  lower_bound = q1 - 1.5 * IQR\n",
        "  upper_bound = q3 + 1.5 * IQR\n",
        "  outliers = data[(data <= lower_bound) | (data >= upper_bound)]\n",
        "  print(f'Outliers Percent for {columns}: {len(outliers)/len(data)*100}')\n",
        "  return outliers\n"
      ]
    },
    {
      "cell_type": "markdown",
      "metadata": {
        "id": "xpaGqbdQB4FS"
      },
      "source": [
        "## **Feature Engineering**"
      ]
    },
    {
      "cell_type": "markdown",
      "metadata": {
        "id": "kFy1QbMBBx8R"
      },
      "source": [
        "### Scaling:\n",
        "- Values are on different scale. Need to scale Independent Variables"
      ]
    },
    {
      "cell_type": "code",
      "execution_count": 13,
      "metadata": {
        "id": "knhC6iAWUtOO"
      },
      "outputs": [],
      "source": [
        "cols_to_scale = ['TV', 'radio', 'newspaper']\n",
        "\n",
        "scaler = MinMaxScaler()\n",
        "\n",
        "scaler_transformer = ColumnTransformer(\n",
        "    transformers = [('scaler_transformer', scaler, cols_to_scale)],\n",
        "    verbose_feature_names_out= False,\n",
        "    remainder='passthrough'\n",
        ").set_output(transform = \"pandas\")"
      ]
    },
    {
      "cell_type": "markdown",
      "metadata": {
        "id": "di6Ac9k-Uejn"
      },
      "source": [
        "### Transformation:\n",
        "- No need since there's no cat features"
      ]
    },
    {
      "cell_type": "markdown",
      "metadata": {
        "id": "zzAEYrv209gi"
      },
      "source": [
        "## **Train Model**\n"
      ]
    },
    {
      "cell_type": "code",
      "execution_count": 14,
      "metadata": {
        "colab": {
          "base_uri": "https://localhost:8080/"
        },
        "id": "OkZETOAFkhwB",
        "outputId": "02b77e84-d950-4fbb-870c-16a38c5882ea"
      },
      "outputs": [
        {
          "output_type": "stream",
          "name": "stdout",
          "text": [
            "(160, 3) (40, 3) (160,) (40,)\n"
          ]
        }
      ],
      "source": [
        "X = df.iloc[:,:-1]\n",
        "y = df.iloc[:,-1]\n",
        "X_train, X_test, y_train, y_test = train_test_split(X, y, test_size=0.2, random_state=42)\n",
        "print(X_train.shape, X_test.shape, y_train.shape, y_test.shape)"
      ]
    },
    {
      "cell_type": "markdown",
      "metadata": {
        "id": "tckX4gvdBqx9"
      },
      "source": [
        "### Remove/Impute outliers"
      ]
    },
    {
      "cell_type": "code",
      "execution_count": 15,
      "metadata": {
        "colab": {
          "base_uri": "https://localhost:8080/"
        },
        "id": "nI4LOp264kus",
        "outputId": "8c1c558a-39d0-4d1a-ed60-a6fec0140b5f"
      },
      "outputs": [
        {
          "output_type": "stream",
          "name": "stdout",
          "text": [
            "Outliers Percent for TV: 0.0\n",
            "Outliers Percent for radio: 0.0\n",
            "Outliers Percent for newspaper: 0.625\n",
            "Outliers Percent for sales: 0.0\n"
          ]
        }
      ],
      "source": [
        "outliers = {}\n",
        "\n",
        "for cols in pd.concat([X_train, y_train], axis=1).columns:\n",
        "  outliers[cols] = detect_outliers(X_train, y_train, cols)"
      ]
    },
    {
      "cell_type": "code",
      "execution_count": 16,
      "metadata": {
        "colab": {
          "base_uri": "https://localhost:8080/",
          "height": 81
        },
        "id": "btGd5FGr_jFz",
        "outputId": "9b09009a-6934-41d9-852d-3b8348f132ae"
      },
      "outputs": [
        {
          "output_type": "execute_result",
          "data": {
            "text/plain": [
              "        TV  radio  newspaper\n",
              "101  296.4   36.3      100.9"
            ],
            "text/html": [
              "\n",
              "  <div id=\"df-40af0dae-4560-427f-a85b-900c638c74c8\" class=\"colab-df-container\">\n",
              "    <div>\n",
              "<style scoped>\n",
              "    .dataframe tbody tr th:only-of-type {\n",
              "        vertical-align: middle;\n",
              "    }\n",
              "\n",
              "    .dataframe tbody tr th {\n",
              "        vertical-align: top;\n",
              "    }\n",
              "\n",
              "    .dataframe thead th {\n",
              "        text-align: right;\n",
              "    }\n",
              "</style>\n",
              "<table border=\"1\" class=\"dataframe\">\n",
              "  <thead>\n",
              "    <tr style=\"text-align: right;\">\n",
              "      <th></th>\n",
              "      <th>TV</th>\n",
              "      <th>radio</th>\n",
              "      <th>newspaper</th>\n",
              "    </tr>\n",
              "  </thead>\n",
              "  <tbody>\n",
              "    <tr>\n",
              "      <th>101</th>\n",
              "      <td>296.4</td>\n",
              "      <td>36.3</td>\n",
              "      <td>100.9</td>\n",
              "    </tr>\n",
              "  </tbody>\n",
              "</table>\n",
              "</div>\n",
              "    <div class=\"colab-df-buttons\">\n",
              "\n",
              "  <div class=\"colab-df-container\">\n",
              "    <button class=\"colab-df-convert\" onclick=\"convertToInteractive('df-40af0dae-4560-427f-a85b-900c638c74c8')\"\n",
              "            title=\"Convert this dataframe to an interactive table.\"\n",
              "            style=\"display:none;\">\n",
              "\n",
              "  <svg xmlns=\"http://www.w3.org/2000/svg\" height=\"24px\" viewBox=\"0 -960 960 960\">\n",
              "    <path d=\"M120-120v-720h720v720H120Zm60-500h600v-160H180v160Zm220 220h160v-160H400v160Zm0 220h160v-160H400v160ZM180-400h160v-160H180v160Zm440 0h160v-160H620v160ZM180-180h160v-160H180v160Zm440 0h160v-160H620v160Z\"/>\n",
              "  </svg>\n",
              "    </button>\n",
              "\n",
              "  <style>\n",
              "    .colab-df-container {\n",
              "      display:flex;\n",
              "      gap: 12px;\n",
              "    }\n",
              "\n",
              "    .colab-df-convert {\n",
              "      background-color: #E8F0FE;\n",
              "      border: none;\n",
              "      border-radius: 50%;\n",
              "      cursor: pointer;\n",
              "      display: none;\n",
              "      fill: #1967D2;\n",
              "      height: 32px;\n",
              "      padding: 0 0 0 0;\n",
              "      width: 32px;\n",
              "    }\n",
              "\n",
              "    .colab-df-convert:hover {\n",
              "      background-color: #E2EBFA;\n",
              "      box-shadow: 0px 1px 2px rgba(60, 64, 67, 0.3), 0px 1px 3px 1px rgba(60, 64, 67, 0.15);\n",
              "      fill: #174EA6;\n",
              "    }\n",
              "\n",
              "    .colab-df-buttons div {\n",
              "      margin-bottom: 4px;\n",
              "    }\n",
              "\n",
              "    [theme=dark] .colab-df-convert {\n",
              "      background-color: #3B4455;\n",
              "      fill: #D2E3FC;\n",
              "    }\n",
              "\n",
              "    [theme=dark] .colab-df-convert:hover {\n",
              "      background-color: #434B5C;\n",
              "      box-shadow: 0px 1px 3px 1px rgba(0, 0, 0, 0.15);\n",
              "      filter: drop-shadow(0px 1px 2px rgba(0, 0, 0, 0.3));\n",
              "      fill: #FFFFFF;\n",
              "    }\n",
              "  </style>\n",
              "\n",
              "    <script>\n",
              "      const buttonEl =\n",
              "        document.querySelector('#df-40af0dae-4560-427f-a85b-900c638c74c8 button.colab-df-convert');\n",
              "      buttonEl.style.display =\n",
              "        google.colab.kernel.accessAllowed ? 'block' : 'none';\n",
              "\n",
              "      async function convertToInteractive(key) {\n",
              "        const element = document.querySelector('#df-40af0dae-4560-427f-a85b-900c638c74c8');\n",
              "        const dataTable =\n",
              "          await google.colab.kernel.invokeFunction('convertToInteractive',\n",
              "                                                    [key], {});\n",
              "        if (!dataTable) return;\n",
              "\n",
              "        const docLinkHtml = 'Like what you see? Visit the ' +\n",
              "          '<a target=\"_blank\" href=https://colab.research.google.com/notebooks/data_table.ipynb>data table notebook</a>'\n",
              "          + ' to learn more about interactive tables.';\n",
              "        element.innerHTML = '';\n",
              "        dataTable['output_type'] = 'display_data';\n",
              "        await google.colab.output.renderOutput(dataTable, element);\n",
              "        const docLink = document.createElement('div');\n",
              "        docLink.innerHTML = docLinkHtml;\n",
              "        element.appendChild(docLink);\n",
              "      }\n",
              "    </script>\n",
              "  </div>\n",
              "\n",
              "\n",
              "    </div>\n",
              "  </div>\n"
            ]
          },
          "metadata": {},
          "execution_count": 16
        }
      ],
      "source": [
        "X_train[X_train['newspaper'].isin(outliers['newspaper'])]"
      ]
    },
    {
      "cell_type": "code",
      "execution_count": 17,
      "metadata": {
        "colab": {
          "base_uri": "https://localhost:8080/"
        },
        "id": "FHTH5lK6TBR5",
        "outputId": "906febdb-bc28-49a3-a84a-6ca0eab9bf45"
      },
      "outputs": [
        {
          "output_type": "execute_result",
          "data": {
            "text/plain": [
              "101    23.8\n",
              "Name: sales, dtype: float64"
            ]
          },
          "metadata": {},
          "execution_count": 17
        }
      ],
      "source": [
        "y_train[X_train['newspaper'].isin(outliers['newspaper'])]"
      ]
    },
    {
      "cell_type": "markdown",
      "metadata": {
        "id": "UkIRvQZnTS4S"
      },
      "source": [
        "**Insights**:\n",
        "- The outlies seem pretty logical here -> cann't determine -> keep and not drop"
      ]
    },
    {
      "cell_type": "markdown",
      "metadata": {
        "id": "eyPunCFZl0VZ"
      },
      "source": [
        "### Scaling:"
      ]
    },
    {
      "cell_type": "code",
      "execution_count": 18,
      "metadata": {
        "colab": {
          "base_uri": "https://localhost:8080/"
        },
        "id": "8uS6EJeNl8vP",
        "outputId": "47d6d6ef-dfb0-4c50-9258-d2db492a657f"
      },
      "outputs": [
        {
          "output_type": "execute_result",
          "data": {
            "text/plain": [
              "(160, 3)"
            ]
          },
          "metadata": {},
          "execution_count": 18
        }
      ],
      "source": [
        "# For practice purpose using pipeline\n",
        "pipe = Pipeline([\n",
        "    ('scaler', scaler_transformer)\n",
        "    ])\n",
        "X_train_scaled = pipe.fit_transform(X_train)\n",
        "X_train_scaled.shape"
      ]
    },
    {
      "cell_type": "markdown",
      "metadata": {
        "id": "T9vSJZe7saM7"
      },
      "source": [
        "## **Check statistical Model**"
      ]
    },
    {
      "cell_type": "markdown",
      "metadata": {
        "id": "ZSN43F8hzNae"
      },
      "source": [
        "### 1. Use statsmodels.formula.api:\n",
        "- Need to combine X_train & y_train into 1 dataframe\n",
        "- Need to specify the formula: Y ~ X1 + X2\n",
        "- But already include intercept value"
      ]
    },
    {
      "cell_type": "code",
      "execution_count": 20,
      "metadata": {
        "colab": {
          "base_uri": "https://localhost:8080/",
          "height": 206
        },
        "id": "8_Ab0PB-stOQ",
        "outputId": "1879454a-35f6-4af1-e4ce-5a98264e88dd"
      },
      "outputs": [
        {
          "output_type": "execute_result",
          "data": {
            "text/plain": [
              "        TV  radio  newspaper  sales\n",
              "79   116.0    7.7       23.1   11.0\n",
              "197  177.0    9.3        6.4   12.8\n",
              "38    43.1   26.7       35.1   10.1\n",
              "24    62.3   12.6       18.3    9.7\n",
              "122  224.0    2.4       15.6   11.6"
            ],
            "text/html": [
              "\n",
              "  <div id=\"df-ddb09a4d-3947-4db7-8d17-782c1ed88d9a\" class=\"colab-df-container\">\n",
              "    <div>\n",
              "<style scoped>\n",
              "    .dataframe tbody tr th:only-of-type {\n",
              "        vertical-align: middle;\n",
              "    }\n",
              "\n",
              "    .dataframe tbody tr th {\n",
              "        vertical-align: top;\n",
              "    }\n",
              "\n",
              "    .dataframe thead th {\n",
              "        text-align: right;\n",
              "    }\n",
              "</style>\n",
              "<table border=\"1\" class=\"dataframe\">\n",
              "  <thead>\n",
              "    <tr style=\"text-align: right;\">\n",
              "      <th></th>\n",
              "      <th>TV</th>\n",
              "      <th>radio</th>\n",
              "      <th>newspaper</th>\n",
              "      <th>sales</th>\n",
              "    </tr>\n",
              "  </thead>\n",
              "  <tbody>\n",
              "    <tr>\n",
              "      <th>79</th>\n",
              "      <td>116.0</td>\n",
              "      <td>7.7</td>\n",
              "      <td>23.1</td>\n",
              "      <td>11.0</td>\n",
              "    </tr>\n",
              "    <tr>\n",
              "      <th>197</th>\n",
              "      <td>177.0</td>\n",
              "      <td>9.3</td>\n",
              "      <td>6.4</td>\n",
              "      <td>12.8</td>\n",
              "    </tr>\n",
              "    <tr>\n",
              "      <th>38</th>\n",
              "      <td>43.1</td>\n",
              "      <td>26.7</td>\n",
              "      <td>35.1</td>\n",
              "      <td>10.1</td>\n",
              "    </tr>\n",
              "    <tr>\n",
              "      <th>24</th>\n",
              "      <td>62.3</td>\n",
              "      <td>12.6</td>\n",
              "      <td>18.3</td>\n",
              "      <td>9.7</td>\n",
              "    </tr>\n",
              "    <tr>\n",
              "      <th>122</th>\n",
              "      <td>224.0</td>\n",
              "      <td>2.4</td>\n",
              "      <td>15.6</td>\n",
              "      <td>11.6</td>\n",
              "    </tr>\n",
              "  </tbody>\n",
              "</table>\n",
              "</div>\n",
              "    <div class=\"colab-df-buttons\">\n",
              "\n",
              "  <div class=\"colab-df-container\">\n",
              "    <button class=\"colab-df-convert\" onclick=\"convertToInteractive('df-ddb09a4d-3947-4db7-8d17-782c1ed88d9a')\"\n",
              "            title=\"Convert this dataframe to an interactive table.\"\n",
              "            style=\"display:none;\">\n",
              "\n",
              "  <svg xmlns=\"http://www.w3.org/2000/svg\" height=\"24px\" viewBox=\"0 -960 960 960\">\n",
              "    <path d=\"M120-120v-720h720v720H120Zm60-500h600v-160H180v160Zm220 220h160v-160H400v160Zm0 220h160v-160H400v160ZM180-400h160v-160H180v160Zm440 0h160v-160H620v160ZM180-180h160v-160H180v160Zm440 0h160v-160H620v160Z\"/>\n",
              "  </svg>\n",
              "    </button>\n",
              "\n",
              "  <style>\n",
              "    .colab-df-container {\n",
              "      display:flex;\n",
              "      gap: 12px;\n",
              "    }\n",
              "\n",
              "    .colab-df-convert {\n",
              "      background-color: #E8F0FE;\n",
              "      border: none;\n",
              "      border-radius: 50%;\n",
              "      cursor: pointer;\n",
              "      display: none;\n",
              "      fill: #1967D2;\n",
              "      height: 32px;\n",
              "      padding: 0 0 0 0;\n",
              "      width: 32px;\n",
              "    }\n",
              "\n",
              "    .colab-df-convert:hover {\n",
              "      background-color: #E2EBFA;\n",
              "      box-shadow: 0px 1px 2px rgba(60, 64, 67, 0.3), 0px 1px 3px 1px rgba(60, 64, 67, 0.15);\n",
              "      fill: #174EA6;\n",
              "    }\n",
              "\n",
              "    .colab-df-buttons div {\n",
              "      margin-bottom: 4px;\n",
              "    }\n",
              "\n",
              "    [theme=dark] .colab-df-convert {\n",
              "      background-color: #3B4455;\n",
              "      fill: #D2E3FC;\n",
              "    }\n",
              "\n",
              "    [theme=dark] .colab-df-convert:hover {\n",
              "      background-color: #434B5C;\n",
              "      box-shadow: 0px 1px 3px 1px rgba(0, 0, 0, 0.15);\n",
              "      filter: drop-shadow(0px 1px 2px rgba(0, 0, 0, 0.3));\n",
              "      fill: #FFFFFF;\n",
              "    }\n",
              "  </style>\n",
              "\n",
              "    <script>\n",
              "      const buttonEl =\n",
              "        document.querySelector('#df-ddb09a4d-3947-4db7-8d17-782c1ed88d9a button.colab-df-convert');\n",
              "      buttonEl.style.display =\n",
              "        google.colab.kernel.accessAllowed ? 'block' : 'none';\n",
              "\n",
              "      async function convertToInteractive(key) {\n",
              "        const element = document.querySelector('#df-ddb09a4d-3947-4db7-8d17-782c1ed88d9a');\n",
              "        const dataTable =\n",
              "          await google.colab.kernel.invokeFunction('convertToInteractive',\n",
              "                                                    [key], {});\n",
              "        if (!dataTable) return;\n",
              "\n",
              "        const docLinkHtml = 'Like what you see? Visit the ' +\n",
              "          '<a target=\"_blank\" href=https://colab.research.google.com/notebooks/data_table.ipynb>data table notebook</a>'\n",
              "          + ' to learn more about interactive tables.';\n",
              "        element.innerHTML = '';\n",
              "        dataTable['output_type'] = 'display_data';\n",
              "        await google.colab.output.renderOutput(dataTable, element);\n",
              "        const docLink = document.createElement('div');\n",
              "        docLink.innerHTML = docLinkHtml;\n",
              "        element.appendChild(docLink);\n",
              "      }\n",
              "    </script>\n",
              "  </div>\n",
              "\n",
              "\n",
              "<div id=\"df-331e9d72-5fa4-4750-869c-f91c2b4599f7\">\n",
              "  <button class=\"colab-df-quickchart\" onclick=\"quickchart('df-331e9d72-5fa4-4750-869c-f91c2b4599f7')\"\n",
              "            title=\"Suggest charts\"\n",
              "            style=\"display:none;\">\n",
              "\n",
              "<svg xmlns=\"http://www.w3.org/2000/svg\" height=\"24px\"viewBox=\"0 0 24 24\"\n",
              "     width=\"24px\">\n",
              "    <g>\n",
              "        <path d=\"M19 3H5c-1.1 0-2 .9-2 2v14c0 1.1.9 2 2 2h14c1.1 0 2-.9 2-2V5c0-1.1-.9-2-2-2zM9 17H7v-7h2v7zm4 0h-2V7h2v10zm4 0h-2v-4h2v4z\"/>\n",
              "    </g>\n",
              "</svg>\n",
              "  </button>\n",
              "\n",
              "<style>\n",
              "  .colab-df-quickchart {\n",
              "      --bg-color: #E8F0FE;\n",
              "      --fill-color: #1967D2;\n",
              "      --hover-bg-color: #E2EBFA;\n",
              "      --hover-fill-color: #174EA6;\n",
              "      --disabled-fill-color: #AAA;\n",
              "      --disabled-bg-color: #DDD;\n",
              "  }\n",
              "\n",
              "  [theme=dark] .colab-df-quickchart {\n",
              "      --bg-color: #3B4455;\n",
              "      --fill-color: #D2E3FC;\n",
              "      --hover-bg-color: #434B5C;\n",
              "      --hover-fill-color: #FFFFFF;\n",
              "      --disabled-bg-color: #3B4455;\n",
              "      --disabled-fill-color: #666;\n",
              "  }\n",
              "\n",
              "  .colab-df-quickchart {\n",
              "    background-color: var(--bg-color);\n",
              "    border: none;\n",
              "    border-radius: 50%;\n",
              "    cursor: pointer;\n",
              "    display: none;\n",
              "    fill: var(--fill-color);\n",
              "    height: 32px;\n",
              "    padding: 0;\n",
              "    width: 32px;\n",
              "  }\n",
              "\n",
              "  .colab-df-quickchart:hover {\n",
              "    background-color: var(--hover-bg-color);\n",
              "    box-shadow: 0 1px 2px rgba(60, 64, 67, 0.3), 0 1px 3px 1px rgba(60, 64, 67, 0.15);\n",
              "    fill: var(--button-hover-fill-color);\n",
              "  }\n",
              "\n",
              "  .colab-df-quickchart-complete:disabled,\n",
              "  .colab-df-quickchart-complete:disabled:hover {\n",
              "    background-color: var(--disabled-bg-color);\n",
              "    fill: var(--disabled-fill-color);\n",
              "    box-shadow: none;\n",
              "  }\n",
              "\n",
              "  .colab-df-spinner {\n",
              "    border: 2px solid var(--fill-color);\n",
              "    border-color: transparent;\n",
              "    border-bottom-color: var(--fill-color);\n",
              "    animation:\n",
              "      spin 1s steps(1) infinite;\n",
              "  }\n",
              "\n",
              "  @keyframes spin {\n",
              "    0% {\n",
              "      border-color: transparent;\n",
              "      border-bottom-color: var(--fill-color);\n",
              "      border-left-color: var(--fill-color);\n",
              "    }\n",
              "    20% {\n",
              "      border-color: transparent;\n",
              "      border-left-color: var(--fill-color);\n",
              "      border-top-color: var(--fill-color);\n",
              "    }\n",
              "    30% {\n",
              "      border-color: transparent;\n",
              "      border-left-color: var(--fill-color);\n",
              "      border-top-color: var(--fill-color);\n",
              "      border-right-color: var(--fill-color);\n",
              "    }\n",
              "    40% {\n",
              "      border-color: transparent;\n",
              "      border-right-color: var(--fill-color);\n",
              "      border-top-color: var(--fill-color);\n",
              "    }\n",
              "    60% {\n",
              "      border-color: transparent;\n",
              "      border-right-color: var(--fill-color);\n",
              "    }\n",
              "    80% {\n",
              "      border-color: transparent;\n",
              "      border-right-color: var(--fill-color);\n",
              "      border-bottom-color: var(--fill-color);\n",
              "    }\n",
              "    90% {\n",
              "      border-color: transparent;\n",
              "      border-bottom-color: var(--fill-color);\n",
              "    }\n",
              "  }\n",
              "</style>\n",
              "\n",
              "  <script>\n",
              "    async function quickchart(key) {\n",
              "      const quickchartButtonEl =\n",
              "        document.querySelector('#' + key + ' button');\n",
              "      quickchartButtonEl.disabled = true;  // To prevent multiple clicks.\n",
              "      quickchartButtonEl.classList.add('colab-df-spinner');\n",
              "      try {\n",
              "        const charts = await google.colab.kernel.invokeFunction(\n",
              "            'suggestCharts', [key], {});\n",
              "      } catch (error) {\n",
              "        console.error('Error during call to suggestCharts:', error);\n",
              "      }\n",
              "      quickchartButtonEl.classList.remove('colab-df-spinner');\n",
              "      quickchartButtonEl.classList.add('colab-df-quickchart-complete');\n",
              "    }\n",
              "    (() => {\n",
              "      let quickchartButtonEl =\n",
              "        document.querySelector('#df-331e9d72-5fa4-4750-869c-f91c2b4599f7 button');\n",
              "      quickchartButtonEl.style.display =\n",
              "        google.colab.kernel.accessAllowed ? 'block' : 'none';\n",
              "    })();\n",
              "  </script>\n",
              "</div>\n",
              "\n",
              "    </div>\n",
              "  </div>\n"
            ]
          },
          "metadata": {},
          "execution_count": 20
        }
      ],
      "source": [
        "# Test\n",
        "df_test = pd.concat([X_train, y_train], axis=1)\n",
        "df_test = df_test.rename(columns={'0':'sales'})\n",
        "df_test.head()"
      ]
    },
    {
      "cell_type": "code",
      "execution_count": 21,
      "metadata": {
        "colab": {
          "base_uri": "https://localhost:8080/"
        },
        "id": "lRiUvU92tJZD",
        "outputId": "c839881f-b696-495c-c25e-d607e379066d"
      },
      "outputs": [
        {
          "output_type": "stream",
          "name": "stdout",
          "text": [
            "                            OLS Regression Results                            \n",
            "==============================================================================\n",
            "Dep. Variable:                  sales   R-squared:                       0.896\n",
            "Model:                            OLS   Adj. R-squared:                  0.894\n",
            "Method:                 Least Squares   F-statistic:                     446.6\n",
            "Date:                Fri, 12 Jan 2024   Prob (F-statistic):           2.53e-76\n",
            "Time:                        07:05:57   Log-Likelihood:                -306.64\n",
            "No. Observations:                 160   AIC:                             621.3\n",
            "Df Residuals:                     156   BIC:                             633.6\n",
            "Df Model:                           3                                         \n",
            "Covariance Type:            nonrobust                                         \n",
            "==============================================================================\n",
            "                 coef    std err          t      P>|t|      [0.025      0.975]\n",
            "------------------------------------------------------------------------------\n",
            "Intercept      2.9791      0.354      8.427      0.000       2.281       3.677\n",
            "TV             0.0447      0.002     28.544      0.000       0.042       0.048\n",
            "radio          0.1892      0.010     19.518      0.000       0.170       0.208\n",
            "newspaper      0.0028      0.007      0.392      0.696      -0.011       0.017\n",
            "==============================================================================\n",
            "Omnibus:                       67.697   Durbin-Watson:                   2.161\n",
            "Prob(Omnibus):                  0.000   Jarque-Bera (JB):              240.326\n",
            "Skew:                          -1.627   Prob(JB):                     6.52e-53\n",
            "Kurtosis:                       8.046   Cond. No.                         471.\n",
            "==============================================================================\n",
            "\n",
            "Notes:\n",
            "[1] Standard Errors assume that the covariance matrix of the errors is correctly specified.\n"
          ]
        }
      ],
      "source": [
        "# Use X_train for testing purpose\n",
        "est_test = smf.ols(formula = 'sales ~ TV + radio + newspaper', data=df_test).fit()\n",
        "print(est_test.summary())"
      ]
    },
    {
      "cell_type": "markdown",
      "metadata": {
        "id": "xqHsuIEvzWRq"
      },
      "source": [
        "### 2. Use statsmodels.api\n",
        "- Need to add constant (intercept) to the model"
      ]
    },
    {
      "cell_type": "code",
      "execution_count": 22,
      "metadata": {
        "colab": {
          "base_uri": "https://localhost:8080/"
        },
        "id": "22PAzpOntqXq",
        "outputId": "dbbd7ea9-09cf-4a62-e238-e6f4eabcec21"
      },
      "outputs": [
        {
          "output_type": "stream",
          "name": "stdout",
          "text": [
            "                            OLS Regression Results                            \n",
            "==============================================================================\n",
            "Dep. Variable:                  sales   R-squared:                       0.896\n",
            "Model:                            OLS   Adj. R-squared:                  0.894\n",
            "Method:                 Least Squares   F-statistic:                     446.6\n",
            "Date:                Fri, 12 Jan 2024   Prob (F-statistic):           2.53e-76\n",
            "Time:                        07:05:57   Log-Likelihood:                -306.64\n",
            "No. Observations:                 160   AIC:                             621.3\n",
            "Df Residuals:                     156   BIC:                             633.6\n",
            "Df Model:                           3                                         \n",
            "Covariance Type:            nonrobust                                         \n",
            "==============================================================================\n",
            "                 coef    std err          t      P>|t|      [0.025      0.975]\n",
            "------------------------------------------------------------------------------\n",
            "const          3.0112      0.352      8.553      0.000       2.316       3.707\n",
            "TV            13.2265      0.463     28.544      0.000      12.311      14.142\n",
            "radio          9.3841      0.481     19.518      0.000       8.434      10.334\n",
            "newspaper      0.2778      0.709      0.392      0.696      -1.123       1.678\n",
            "==============================================================================\n",
            "Omnibus:                       67.697   Durbin-Watson:                   2.161\n",
            "Prob(Omnibus):                  0.000   Jarque-Bera (JB):              240.326\n",
            "Skew:                          -1.627   Prob(JB):                     6.52e-53\n",
            "Kurtosis:                       8.046   Cond. No.                         7.20\n",
            "==============================================================================\n",
            "\n",
            "Notes:\n",
            "[1] Standard Errors assume that the covariance matrix of the errors is correctly specified.\n"
          ]
        }
      ],
      "source": [
        "# By default the OLS does not add constant (intercept) to the model -> which will result into uncentered R^2 (diferent formula)\n",
        "# Use X_train_scaled to see the difference\n",
        "\n",
        "X_train_sm = sm.add_constant(X_train_scaled)\n",
        "\n",
        "est_test = sm.OLS(y_train, X_train_sm).fit()\n",
        "print(est_test.summary())"
      ]
    },
    {
      "cell_type": "markdown",
      "metadata": {
        "id": "qT1CUHKau6Ca"
      },
      "source": [
        "#### **NOTES**:\n",
        "- model result in Uncentered R^2 is a linear model without intercept.\n",
        "- The formula for calculating R^2 is different from \"Centered\" one (Normal R^2):\n",
        "  - *Uncentered*: `1 - (((y - y_pred) ** 2).sum() / (y ** 2).sum())`\n",
        "  - *Centered*:   `1 - (((y - y_pred) ** 2).sum() / ((y - np.mean(y)) ** 2).sum())`\n",
        "- Same result between 2 different ways\n",
        "- Using **X_train_scaled** -> results in a more normal distribution"
      ]
    },
    {
      "cell_type": "markdown",
      "metadata": {
        "id": "AYy-sNLenrjg"
      },
      "source": [
        "## **Model 1: Linear Regression**"
      ]
    },
    {
      "cell_type": "code",
      "execution_count": 23,
      "metadata": {
        "id": "8KlPDKZHpFvF"
      },
      "outputs": [],
      "source": [
        "# Function to evaluate performance\n",
        "def evaluate_score(model, X_test, y_test):\n",
        "  y_preds = model.predict(X_test)\n",
        "  rmse = np.sqrt(mean_squared_error(y_test, y_preds))\n",
        "  r2 = r2_score(y_test, y_preds)\n",
        "  print(f'RMSE: {rmse} \\nR2: {r2 * 100}' )\n",
        "  return rmse, r2"
      ]
    },
    {
      "cell_type": "code",
      "execution_count": 24,
      "metadata": {
        "colab": {
          "base_uri": "https://localhost:8080/"
        },
        "id": "x28WR4f2rUIg",
        "outputId": "851f0ed6-8158-476d-f0f1-81eddb8252c7"
      },
      "outputs": [
        {
          "output_type": "execute_result",
          "data": {
            "text/plain": [
              "(13.7125, 14.1)"
            ]
          },
          "metadata": {},
          "execution_count": 24
        }
      ],
      "source": [
        "# Baseline y_test mean to compare with rmse\n",
        "y_test_mean = y_test.mean()\n",
        "y_train_mean = y_train.mean()\n",
        "y_test_mean, y_train_mean"
      ]
    },
    {
      "cell_type": "markdown",
      "metadata": {
        "id": "Od5zWNxZnxNk"
      },
      "source": [
        "### Baseline Model\n",
        "- Run Simple Regression Model without tunning, and use them as baseline to compare all other models"
      ]
    },
    {
      "cell_type": "code",
      "execution_count": 25,
      "metadata": {
        "colab": {
          "base_uri": "https://localhost:8080/"
        },
        "id": "Hk-q24LFnq1L",
        "outputId": "7409dbf3-9124-42be-f6d7-e9dd708fd92a"
      },
      "outputs": [
        {
          "output_type": "stream",
          "name": "stdout",
          "text": [
            "RMSE: 1.644727765644337 \n",
            "R2: 89.57008271017818\n",
            "Percent Train rmse compared to mean: 11.664735926555583\n"
          ]
        }
      ],
      "source": [
        "lin_reg_baseline_model = LinearRegression(fit_intercept=True)\n",
        "lin_reg_baseline_model.fit(X_train_scaled, y_train)\n",
        "\n",
        "# Calculating perfromance on train set\n",
        "rmse_reg_baseline, r2_reg_baseline = evaluate_score(lin_reg_baseline_model, X_train_scaled, y_train)\n",
        "print(f'Percent Train rmse compared to mean: {rmse_reg_baseline/y_train_mean * 100}')"
      ]
    },
    {
      "cell_type": "markdown",
      "metadata": {
        "id": "6ilq4BtKsDq0"
      },
      "source": [
        "### Leave-one-out CV Model\n",
        "- Since our sample size is very small -> it may be not neccessary to use K-Fold CV and spit them to specific folds. However, we can run **Leave-on-out** method on this to make sure it's not overfit"
      ]
    },
    {
      "cell_type": "code",
      "execution_count": 26,
      "metadata": {
        "colab": {
          "base_uri": "https://localhost:8080/",
          "height": 476
        },
        "id": "frYkchnqUstf",
        "outputId": "e0b01421-6e92-4d8f-9610-00233d14a991"
      },
      "outputs": [
        {
          "output_type": "stream",
          "name": "stderr",
          "text": [
            "[Parallel(n_jobs=-1)]: Using backend LokyBackend with 2 concurrent workers.\n",
            "[Parallel(n_jobs=-1)]: Done  60 tasks      | elapsed:    5.3s\n",
            "[Parallel(n_jobs=-1)]: Done 160 out of 160 | elapsed:    6.8s finished\n"
          ]
        },
        {
          "output_type": "execute_result",
          "data": {
            "text/plain": [
              "     fit_time  score_time  test_score  train_score\n",
              "0    0.026686    0.004661   -1.768567    -2.711172\n",
              "1    0.019765    0.012785   -0.016598    -2.722040\n",
              "2    0.013218    0.002424   -0.002066    -2.722130\n",
              "3    0.011576    0.015897   -2.324857    -2.707759\n",
              "4    0.015276    0.006133   -3.773735    -2.698983\n",
              "..        ...         ...         ...          ...\n",
              "155  0.003690    0.012240   -0.926664    -2.716455\n",
              "156  0.004542    0.013477   -0.299756    -2.720283\n",
              "157  0.004527    0.006631   -0.034844    -2.721929\n",
              "158  0.004303    0.019743   -0.076432    -2.721668\n",
              "159  0.004213    0.014783   -7.597662    -2.675644\n",
              "\n",
              "[160 rows x 4 columns]"
            ],
            "text/html": [
              "\n",
              "  <div id=\"df-f977f82f-bb0c-4262-8385-1e2229ace091\" class=\"colab-df-container\">\n",
              "    <div>\n",
              "<style scoped>\n",
              "    .dataframe tbody tr th:only-of-type {\n",
              "        vertical-align: middle;\n",
              "    }\n",
              "\n",
              "    .dataframe tbody tr th {\n",
              "        vertical-align: top;\n",
              "    }\n",
              "\n",
              "    .dataframe thead th {\n",
              "        text-align: right;\n",
              "    }\n",
              "</style>\n",
              "<table border=\"1\" class=\"dataframe\">\n",
              "  <thead>\n",
              "    <tr style=\"text-align: right;\">\n",
              "      <th></th>\n",
              "      <th>fit_time</th>\n",
              "      <th>score_time</th>\n",
              "      <th>test_score</th>\n",
              "      <th>train_score</th>\n",
              "    </tr>\n",
              "  </thead>\n",
              "  <tbody>\n",
              "    <tr>\n",
              "      <th>0</th>\n",
              "      <td>0.026686</td>\n",
              "      <td>0.004661</td>\n",
              "      <td>-1.768567</td>\n",
              "      <td>-2.711172</td>\n",
              "    </tr>\n",
              "    <tr>\n",
              "      <th>1</th>\n",
              "      <td>0.019765</td>\n",
              "      <td>0.012785</td>\n",
              "      <td>-0.016598</td>\n",
              "      <td>-2.722040</td>\n",
              "    </tr>\n",
              "    <tr>\n",
              "      <th>2</th>\n",
              "      <td>0.013218</td>\n",
              "      <td>0.002424</td>\n",
              "      <td>-0.002066</td>\n",
              "      <td>-2.722130</td>\n",
              "    </tr>\n",
              "    <tr>\n",
              "      <th>3</th>\n",
              "      <td>0.011576</td>\n",
              "      <td>0.015897</td>\n",
              "      <td>-2.324857</td>\n",
              "      <td>-2.707759</td>\n",
              "    </tr>\n",
              "    <tr>\n",
              "      <th>4</th>\n",
              "      <td>0.015276</td>\n",
              "      <td>0.006133</td>\n",
              "      <td>-3.773735</td>\n",
              "      <td>-2.698983</td>\n",
              "    </tr>\n",
              "    <tr>\n",
              "      <th>...</th>\n",
              "      <td>...</td>\n",
              "      <td>...</td>\n",
              "      <td>...</td>\n",
              "      <td>...</td>\n",
              "    </tr>\n",
              "    <tr>\n",
              "      <th>155</th>\n",
              "      <td>0.003690</td>\n",
              "      <td>0.012240</td>\n",
              "      <td>-0.926664</td>\n",
              "      <td>-2.716455</td>\n",
              "    </tr>\n",
              "    <tr>\n",
              "      <th>156</th>\n",
              "      <td>0.004542</td>\n",
              "      <td>0.013477</td>\n",
              "      <td>-0.299756</td>\n",
              "      <td>-2.720283</td>\n",
              "    </tr>\n",
              "    <tr>\n",
              "      <th>157</th>\n",
              "      <td>0.004527</td>\n",
              "      <td>0.006631</td>\n",
              "      <td>-0.034844</td>\n",
              "      <td>-2.721929</td>\n",
              "    </tr>\n",
              "    <tr>\n",
              "      <th>158</th>\n",
              "      <td>0.004303</td>\n",
              "      <td>0.019743</td>\n",
              "      <td>-0.076432</td>\n",
              "      <td>-2.721668</td>\n",
              "    </tr>\n",
              "    <tr>\n",
              "      <th>159</th>\n",
              "      <td>0.004213</td>\n",
              "      <td>0.014783</td>\n",
              "      <td>-7.597662</td>\n",
              "      <td>-2.675644</td>\n",
              "    </tr>\n",
              "  </tbody>\n",
              "</table>\n",
              "<p>160 rows × 4 columns</p>\n",
              "</div>\n",
              "    <div class=\"colab-df-buttons\">\n",
              "\n",
              "  <div class=\"colab-df-container\">\n",
              "    <button class=\"colab-df-convert\" onclick=\"convertToInteractive('df-f977f82f-bb0c-4262-8385-1e2229ace091')\"\n",
              "            title=\"Convert this dataframe to an interactive table.\"\n",
              "            style=\"display:none;\">\n",
              "\n",
              "  <svg xmlns=\"http://www.w3.org/2000/svg\" height=\"24px\" viewBox=\"0 -960 960 960\">\n",
              "    <path d=\"M120-120v-720h720v720H120Zm60-500h600v-160H180v160Zm220 220h160v-160H400v160Zm0 220h160v-160H400v160ZM180-400h160v-160H180v160Zm440 0h160v-160H620v160ZM180-180h160v-160H180v160Zm440 0h160v-160H620v160Z\"/>\n",
              "  </svg>\n",
              "    </button>\n",
              "\n",
              "  <style>\n",
              "    .colab-df-container {\n",
              "      display:flex;\n",
              "      gap: 12px;\n",
              "    }\n",
              "\n",
              "    .colab-df-convert {\n",
              "      background-color: #E8F0FE;\n",
              "      border: none;\n",
              "      border-radius: 50%;\n",
              "      cursor: pointer;\n",
              "      display: none;\n",
              "      fill: #1967D2;\n",
              "      height: 32px;\n",
              "      padding: 0 0 0 0;\n",
              "      width: 32px;\n",
              "    }\n",
              "\n",
              "    .colab-df-convert:hover {\n",
              "      background-color: #E2EBFA;\n",
              "      box-shadow: 0px 1px 2px rgba(60, 64, 67, 0.3), 0px 1px 3px 1px rgba(60, 64, 67, 0.15);\n",
              "      fill: #174EA6;\n",
              "    }\n",
              "\n",
              "    .colab-df-buttons div {\n",
              "      margin-bottom: 4px;\n",
              "    }\n",
              "\n",
              "    [theme=dark] .colab-df-convert {\n",
              "      background-color: #3B4455;\n",
              "      fill: #D2E3FC;\n",
              "    }\n",
              "\n",
              "    [theme=dark] .colab-df-convert:hover {\n",
              "      background-color: #434B5C;\n",
              "      box-shadow: 0px 1px 3px 1px rgba(0, 0, 0, 0.15);\n",
              "      filter: drop-shadow(0px 1px 2px rgba(0, 0, 0, 0.3));\n",
              "      fill: #FFFFFF;\n",
              "    }\n",
              "  </style>\n",
              "\n",
              "    <script>\n",
              "      const buttonEl =\n",
              "        document.querySelector('#df-f977f82f-bb0c-4262-8385-1e2229ace091 button.colab-df-convert');\n",
              "      buttonEl.style.display =\n",
              "        google.colab.kernel.accessAllowed ? 'block' : 'none';\n",
              "\n",
              "      async function convertToInteractive(key) {\n",
              "        const element = document.querySelector('#df-f977f82f-bb0c-4262-8385-1e2229ace091');\n",
              "        const dataTable =\n",
              "          await google.colab.kernel.invokeFunction('convertToInteractive',\n",
              "                                                    [key], {});\n",
              "        if (!dataTable) return;\n",
              "\n",
              "        const docLinkHtml = 'Like what you see? Visit the ' +\n",
              "          '<a target=\"_blank\" href=https://colab.research.google.com/notebooks/data_table.ipynb>data table notebook</a>'\n",
              "          + ' to learn more about interactive tables.';\n",
              "        element.innerHTML = '';\n",
              "        dataTable['output_type'] = 'display_data';\n",
              "        await google.colab.output.renderOutput(dataTable, element);\n",
              "        const docLink = document.createElement('div');\n",
              "        docLink.innerHTML = docLinkHtml;\n",
              "        element.appendChild(docLink);\n",
              "      }\n",
              "    </script>\n",
              "  </div>\n",
              "\n",
              "\n",
              "<div id=\"df-34c4adfd-af0b-419a-8745-802934cc5806\">\n",
              "  <button class=\"colab-df-quickchart\" onclick=\"quickchart('df-34c4adfd-af0b-419a-8745-802934cc5806')\"\n",
              "            title=\"Suggest charts\"\n",
              "            style=\"display:none;\">\n",
              "\n",
              "<svg xmlns=\"http://www.w3.org/2000/svg\" height=\"24px\"viewBox=\"0 0 24 24\"\n",
              "     width=\"24px\">\n",
              "    <g>\n",
              "        <path d=\"M19 3H5c-1.1 0-2 .9-2 2v14c0 1.1.9 2 2 2h14c1.1 0 2-.9 2-2V5c0-1.1-.9-2-2-2zM9 17H7v-7h2v7zm4 0h-2V7h2v10zm4 0h-2v-4h2v4z\"/>\n",
              "    </g>\n",
              "</svg>\n",
              "  </button>\n",
              "\n",
              "<style>\n",
              "  .colab-df-quickchart {\n",
              "      --bg-color: #E8F0FE;\n",
              "      --fill-color: #1967D2;\n",
              "      --hover-bg-color: #E2EBFA;\n",
              "      --hover-fill-color: #174EA6;\n",
              "      --disabled-fill-color: #AAA;\n",
              "      --disabled-bg-color: #DDD;\n",
              "  }\n",
              "\n",
              "  [theme=dark] .colab-df-quickchart {\n",
              "      --bg-color: #3B4455;\n",
              "      --fill-color: #D2E3FC;\n",
              "      --hover-bg-color: #434B5C;\n",
              "      --hover-fill-color: #FFFFFF;\n",
              "      --disabled-bg-color: #3B4455;\n",
              "      --disabled-fill-color: #666;\n",
              "  }\n",
              "\n",
              "  .colab-df-quickchart {\n",
              "    background-color: var(--bg-color);\n",
              "    border: none;\n",
              "    border-radius: 50%;\n",
              "    cursor: pointer;\n",
              "    display: none;\n",
              "    fill: var(--fill-color);\n",
              "    height: 32px;\n",
              "    padding: 0;\n",
              "    width: 32px;\n",
              "  }\n",
              "\n",
              "  .colab-df-quickchart:hover {\n",
              "    background-color: var(--hover-bg-color);\n",
              "    box-shadow: 0 1px 2px rgba(60, 64, 67, 0.3), 0 1px 3px 1px rgba(60, 64, 67, 0.15);\n",
              "    fill: var(--button-hover-fill-color);\n",
              "  }\n",
              "\n",
              "  .colab-df-quickchart-complete:disabled,\n",
              "  .colab-df-quickchart-complete:disabled:hover {\n",
              "    background-color: var(--disabled-bg-color);\n",
              "    fill: var(--disabled-fill-color);\n",
              "    box-shadow: none;\n",
              "  }\n",
              "\n",
              "  .colab-df-spinner {\n",
              "    border: 2px solid var(--fill-color);\n",
              "    border-color: transparent;\n",
              "    border-bottom-color: var(--fill-color);\n",
              "    animation:\n",
              "      spin 1s steps(1) infinite;\n",
              "  }\n",
              "\n",
              "  @keyframes spin {\n",
              "    0% {\n",
              "      border-color: transparent;\n",
              "      border-bottom-color: var(--fill-color);\n",
              "      border-left-color: var(--fill-color);\n",
              "    }\n",
              "    20% {\n",
              "      border-color: transparent;\n",
              "      border-left-color: var(--fill-color);\n",
              "      border-top-color: var(--fill-color);\n",
              "    }\n",
              "    30% {\n",
              "      border-color: transparent;\n",
              "      border-left-color: var(--fill-color);\n",
              "      border-top-color: var(--fill-color);\n",
              "      border-right-color: var(--fill-color);\n",
              "    }\n",
              "    40% {\n",
              "      border-color: transparent;\n",
              "      border-right-color: var(--fill-color);\n",
              "      border-top-color: var(--fill-color);\n",
              "    }\n",
              "    60% {\n",
              "      border-color: transparent;\n",
              "      border-right-color: var(--fill-color);\n",
              "    }\n",
              "    80% {\n",
              "      border-color: transparent;\n",
              "      border-right-color: var(--fill-color);\n",
              "      border-bottom-color: var(--fill-color);\n",
              "    }\n",
              "    90% {\n",
              "      border-color: transparent;\n",
              "      border-bottom-color: var(--fill-color);\n",
              "    }\n",
              "  }\n",
              "</style>\n",
              "\n",
              "  <script>\n",
              "    async function quickchart(key) {\n",
              "      const quickchartButtonEl =\n",
              "        document.querySelector('#' + key + ' button');\n",
              "      quickchartButtonEl.disabled = true;  // To prevent multiple clicks.\n",
              "      quickchartButtonEl.classList.add('colab-df-spinner');\n",
              "      try {\n",
              "        const charts = await google.colab.kernel.invokeFunction(\n",
              "            'suggestCharts', [key], {});\n",
              "      } catch (error) {\n",
              "        console.error('Error during call to suggestCharts:', error);\n",
              "      }\n",
              "      quickchartButtonEl.classList.remove('colab-df-spinner');\n",
              "      quickchartButtonEl.classList.add('colab-df-quickchart-complete');\n",
              "    }\n",
              "    (() => {\n",
              "      let quickchartButtonEl =\n",
              "        document.querySelector('#df-34c4adfd-af0b-419a-8745-802934cc5806 button');\n",
              "      quickchartButtonEl.style.display =\n",
              "        google.colab.kernel.accessAllowed ? 'block' : 'none';\n",
              "    })();\n",
              "  </script>\n",
              "</div>\n",
              "\n",
              "  <div id=\"id_7d158447-e55d-4ee4-b3d6-5257b00bddb5\">\n",
              "    <style>\n",
              "      .colab-df-generate {\n",
              "        background-color: #E8F0FE;\n",
              "        border: none;\n",
              "        border-radius: 50%;\n",
              "        cursor: pointer;\n",
              "        display: none;\n",
              "        fill: #1967D2;\n",
              "        height: 32px;\n",
              "        padding: 0 0 0 0;\n",
              "        width: 32px;\n",
              "      }\n",
              "\n",
              "      .colab-df-generate:hover {\n",
              "        background-color: #E2EBFA;\n",
              "        box-shadow: 0px 1px 2px rgba(60, 64, 67, 0.3), 0px 1px 3px 1px rgba(60, 64, 67, 0.15);\n",
              "        fill: #174EA6;\n",
              "      }\n",
              "\n",
              "      [theme=dark] .colab-df-generate {\n",
              "        background-color: #3B4455;\n",
              "        fill: #D2E3FC;\n",
              "      }\n",
              "\n",
              "      [theme=dark] .colab-df-generate:hover {\n",
              "        background-color: #434B5C;\n",
              "        box-shadow: 0px 1px 3px 1px rgba(0, 0, 0, 0.15);\n",
              "        filter: drop-shadow(0px 1px 2px rgba(0, 0, 0, 0.3));\n",
              "        fill: #FFFFFF;\n",
              "      }\n",
              "    </style>\n",
              "    <button class=\"colab-df-generate\" onclick=\"generateWithVariable('reg_loo_scores')\"\n",
              "            title=\"Generate code using this dataframe.\"\n",
              "            style=\"display:none;\">\n",
              "\n",
              "  <svg xmlns=\"http://www.w3.org/2000/svg\" height=\"24px\"viewBox=\"0 0 24 24\"\n",
              "       width=\"24px\">\n",
              "    <path d=\"M7,19H8.4L18.45,9,17,7.55,7,17.6ZM5,21V16.75L18.45,3.32a2,2,0,0,1,2.83,0l1.4,1.43a1.91,1.91,0,0,1,.58,1.4,1.91,1.91,0,0,1-.58,1.4L9.25,21ZM18.45,9,17,7.55Zm-12,3A5.31,5.31,0,0,0,4.9,8.1,5.31,5.31,0,0,0,1,6.5,5.31,5.31,0,0,0,4.9,4.9,5.31,5.31,0,0,0,6.5,1,5.31,5.31,0,0,0,8.1,4.9,5.31,5.31,0,0,0,12,6.5,5.46,5.46,0,0,0,6.5,12Z\"/>\n",
              "  </svg>\n",
              "    </button>\n",
              "    <script>\n",
              "      (() => {\n",
              "      const buttonEl =\n",
              "        document.querySelector('#id_7d158447-e55d-4ee4-b3d6-5257b00bddb5 button.colab-df-generate');\n",
              "      buttonEl.style.display =\n",
              "        google.colab.kernel.accessAllowed ? 'block' : 'none';\n",
              "\n",
              "      buttonEl.onclick = () => {\n",
              "        google.colab.notebook.generateWithVariable('reg_loo_scores');\n",
              "      }\n",
              "      })();\n",
              "    </script>\n",
              "  </div>\n",
              "\n",
              "    </div>\n",
              "  </div>\n"
            ]
          },
          "metadata": {},
          "execution_count": 26
        }
      ],
      "source": [
        "reg_loo_scores = cross_validate(LinearRegression(fit_intercept=True), X_train_scaled, y_train, scoring = 'neg_mean_squared_error', cv = len(X_train_scaled), n_jobs=-1, verbose = 2, return_train_score=True)\n",
        "reg_loo_scores = pd.DataFrame(reg_loo_scores)\n",
        "reg_loo_scores"
      ]
    },
    {
      "cell_type": "code",
      "execution_count": 27,
      "metadata": {
        "colab": {
          "base_uri": "https://localhost:8080/"
        },
        "id": "k-2pI2eOYX4-",
        "outputId": "b43d961a-291c-4485-f75d-d702f949205e"
      },
      "outputs": [
        {
          "output_type": "stream",
          "name": "stdout",
          "text": [
            "Train RMSE: 1.6445275750874095. Test RMSE: 1.7085573452246177\n"
          ]
        }
      ],
      "source": [
        "reg_loo_train_rmse = np.sqrt(abs(reg_loo_scores['train_score']).mean())\n",
        "reg_loo_test_rmse = np.sqrt(abs(reg_loo_scores['test_score']).mean())\n",
        "print(f'Train RMSE: {reg_loo_train_rmse}. Test RMSE: {reg_loo_test_rmse}')"
      ]
    },
    {
      "cell_type": "markdown",
      "metadata": {
        "id": "g7W2EBYDuW3Z"
      },
      "source": [
        "## **Model 2: Polynomial Regression Model:**\n",
        " Perhaps a higher order would improve performance even more! But how high is too high?\n",
        "\n",
        "Let's use a for loop to do the following:\n",
        "\n",
        "1. Create different order polynomial X data\n",
        "2. Split that polynomial data for train/test\n",
        "3. Fit on the training data\n",
        "4. Report back the metrics on *both* the train and test results\n",
        "5. Plot these results and explore overfitting"
      ]
    },
    {
      "cell_type": "code",
      "execution_count": 28,
      "metadata": {
        "id": "apJ1knLfuP5G"
      },
      "outputs": [],
      "source": [
        "# Function to test al degree\n",
        "\n",
        "def poly_reg_degree_choose(X, y):\n",
        "  for d in range(1,10):\n",
        "    poly_transformer = PolynomialFeatures(degree = d, include_bias=False)\n",
        "    poly_X = poly_transformer.fit_transform(X)\n",
        "\n",
        "    X_train, X_test, y_train, y_test = train_test_split(poly_X, y, test_size=0.2, random_state=42)\n",
        "    scaler = MinMaxScaler()\n",
        "    X_train_poly_scaled = scaler.fit_transform(X_train)\n",
        "\n",
        "    polyreg_loo_scores = cross_validate(LinearRegression(fit_intercept=True), X_train_poly_scaled, y_train, scoring = 'neg_mean_squared_error', cv = len(X_train_poly_scaled), n_jobs=-1, verbose = 2, return_train_score=True)\n",
        "    polyreg_loo_scores = pd.DataFrame(polyreg_loo_scores)\n",
        "\n",
        "    polyreg_loo_train_rmse = np.sqrt(abs(polyreg_loo_scores['train_score']).mean())\n",
        "    polyreg_loo_test_rmse = np.sqrt(abs(polyreg_loo_scores['test_score']).mean())\n",
        "\n",
        "    train_rmse_reg_scores.append(polyreg_loo_train_rmse)\n",
        "    test_rmse_reg_scores.append(polyreg_loo_test_rmse)\n",
        "\n",
        "  return train_rmse_reg_scores, test_rmse_reg_scores\n"
      ]
    },
    {
      "cell_type": "code",
      "execution_count": 29,
      "metadata": {
        "colab": {
          "base_uri": "https://localhost:8080/"
        },
        "id": "3F7UPPWyz9r5",
        "outputId": "86fe301e-2c28-453b-bbcc-b8e07644fc92"
      },
      "outputs": [
        {
          "output_type": "stream",
          "name": "stderr",
          "text": [
            "[Parallel(n_jobs=-1)]: Using backend LokyBackend with 2 concurrent workers.\n",
            "[Parallel(n_jobs=-1)]: Done   1 out of   1 | elapsed:    0.0s finished\n",
            "[Parallel(n_jobs=-1)]: Done 160 out of 160 | elapsed:    1.2s finished\n",
            "[Parallel(n_jobs=-1)]: Using backend LokyBackend with 2 concurrent workers.\n",
            "[Parallel(n_jobs=-1)]: Done 160 out of 160 | elapsed:    1.1s finished\n",
            "[Parallel(n_jobs=-1)]: Using backend LokyBackend with 2 concurrent workers.\n",
            "[Parallel(n_jobs=-1)]: Done 157 out of 160 | elapsed:    1.1s remaining:    0.0s\n",
            "[Parallel(n_jobs=-1)]: Done 160 out of 160 | elapsed:    1.1s finished\n",
            "[Parallel(n_jobs=-1)]: Using backend LokyBackend with 2 concurrent workers.\n",
            "[Parallel(n_jobs=-1)]: Done 160 out of 160 | elapsed:    1.2s finished\n",
            "[Parallel(n_jobs=-1)]: Using backend LokyBackend with 2 concurrent workers.\n",
            "[Parallel(n_jobs=-1)]: Done 160 out of 160 | elapsed:    2.2s finished\n",
            "[Parallel(n_jobs=-1)]: Using backend LokyBackend with 2 concurrent workers.\n",
            "[Parallel(n_jobs=-1)]: Done 160 out of 160 | elapsed:    2.9s finished\n",
            "[Parallel(n_jobs=-1)]: Using backend LokyBackend with 2 concurrent workers.\n",
            "[Parallel(n_jobs=-1)]: Done 128 tasks      | elapsed:    2.9s\n",
            "[Parallel(n_jobs=-1)]: Done 160 out of 160 | elapsed:    3.6s finished\n",
            "[Parallel(n_jobs=-1)]: Using backend LokyBackend with 2 concurrent workers.\n",
            "[Parallel(n_jobs=-1)]: Done 160 out of 160 | elapsed:    2.4s finished\n",
            "[Parallel(n_jobs=-1)]: Using backend LokyBackend with 2 concurrent workers.\n",
            "[Parallel(n_jobs=-1)]: Done 128 tasks      | elapsed:    1.9s\n",
            "[Parallel(n_jobs=-1)]: Done 160 out of 160 | elapsed:    2.2s finished\n"
          ]
        }
      ],
      "source": [
        "X, y = df.iloc[:,:-1], df.iloc[:,-1]\n",
        "train_rmse_reg_scores = []\n",
        "test_rmse_reg_scores = []\n",
        "\n",
        "train_rmse_scores, test_rmse_reg_scores = poly_reg_degree_choose(X, y)"
      ]
    },
    {
      "cell_type": "code",
      "execution_count": 30,
      "metadata": {
        "colab": {
          "base_uri": "https://localhost:8080/",
          "height": 490
        },
        "id": "9BiUTYloaU5Q",
        "outputId": "3bacc5ff-7f63-4e02-d452-ab398e89f30d"
      },
      "outputs": [
        {
          "output_type": "execute_result",
          "data": {
            "text/plain": [
              "''"
            ],
            "application/vnd.google.colaboratory.intrinsic+json": {
              "type": "string"
            }
          },
          "metadata": {},
          "execution_count": 30
        },
        {
          "output_type": "display_data",
          "data": {
            "text/plain": [
              "<Figure size 640x480 with 1 Axes>"
            ],
            "image/png": "[encoded data removed]"
          },
          "metadata": {}
        }
      ],
      "source": [
        "plt.plot(range(1,10), train_rmse_reg_scores, label = 'Train')\n",
        "plt.plot(range(1,10), test_rmse_reg_scores, label = 'Test')\n",
        "plt.title('Train RMSE vs Test RMSE for Polynomial Model')\n",
        "plt.xlabel('Degree')\n",
        "plt.ylabel('RMSE')\n",
        "plt.legend()\n",
        ";"
      ]
    },
    {
      "cell_type": "code",
      "execution_count": 31,
      "metadata": {
        "colab": {
          "base_uri": "https://localhost:8080/",
          "height": 490
        },
        "id": "R7DxGDCNbiDj",
        "outputId": "620b0a6b-dee8-49af-ff95-c1684ae39ae1"
      },
      "outputs": [
        {
          "output_type": "execute_result",
          "data": {
            "text/plain": [
              "''"
            ],
            "application/vnd.google.colaboratory.intrinsic+json": {
              "type": "string"
            }
          },
          "metadata": {},
          "execution_count": 31
        },
        {
          "output_type": "display_data",
          "data": {
            "text/plain": [
              "<Figure size 640x480 with 1 Axes>"
            ],
            "image/png": "[encoded data removed]"
          },
          "metadata": {}
        }
      ],
      "source": [
        "# Limit graph to degree 1-6\n",
        "plt.plot(range(1,7), train_rmse_reg_scores[:6], label = 'Train')\n",
        "plt.plot(range(1,7), test_rmse_reg_scores[:6], label = 'Test')\n",
        "plt.title('Train RMSE vs Test RMSE for Polynomial Model')\n",
        "plt.xlabel('Degree')\n",
        "plt.ylabel('RMSE')\n",
        "plt.legend()\n",
        ";"
      ]
    },
    {
      "cell_type": "markdown",
      "metadata": {
        "id": "gMnACfCYb-kO"
      },
      "source": [
        "**Insights**\n",
        "- According to the graph & actual value, we can see the test RMSE skyrocketed from degree 4 to all the way to degree 10.\n",
        "- The Train RMSE begins to decline at degree 2 -> create an elbow curve there, at the same time, the Test RMSE at degree 2 also decline.\n",
        "\n",
        "<br>As a result, go with degree = 2, which will generate the best results to test Regularization Method"
      ]
    },
    {
      "cell_type": "code",
      "execution_count": 32,
      "metadata": {
        "id": "8AFduVLkgw_v"
      },
      "outputs": [],
      "source": [
        "# Create a new degree train, test dataset\n",
        "\n",
        "poly_transformer = PolynomialFeatures(degree = 2, include_bias=False)\n",
        "poly_X = poly_transformer.fit_transform(X)\n",
        "\n",
        "X_train_poly, X_test_poly, y_train_poly, y_test_poly = train_test_split(poly_X, y, test_size=0.2, random_state=42)\n",
        "poly_scaler = MinMaxScaler()\n",
        "X_train_poly_scaled = poly_scaler.fit_transform(X_train_poly)"
      ]
    },
    {
      "cell_type": "code",
      "execution_count": 33,
      "metadata": {
        "colab": {
          "base_uri": "https://localhost:8080/"
        },
        "id": "pNeC-VBjlrJ2",
        "outputId": "367fbddf-5f0e-451e-e8eb-ca93d8ff15d3"
      },
      "outputs": [
        {
          "output_type": "stream",
          "name": "stdout",
          "text": [
            "(160, 9) (40, 9) (160,) (40,)\n"
          ]
        }
      ],
      "source": [
        "print(X_train_poly.shape, X_test_poly.shape, y_train_poly.shape, y_test_poly.shape)"
      ]
    },
    {
      "cell_type": "markdown",
      "metadata": {
        "id": "jXxvQiJadCZa"
      },
      "source": [
        "## **Regularization**"
      ]
    },
    {
      "cell_type": "code",
      "execution_count": 34,
      "metadata": {
        "colab": {
          "base_uri": "https://localhost:8080/",
          "height": 259
        },
        "id": "dyPAGwtrdIYT",
        "outputId": "ffd7c281-060d-45fd-ab86-127ae28ce7f0"
      },
      "outputs": [
        {
          "output_type": "stream",
          "name": "stdout",
          "text": [
            "Fitting 160 folds for each of 77 candidates, totalling 12320 fits\n"
          ]
        },
        {
          "output_type": "stream",
          "name": "stderr",
          "text": [
            "/usr/local/lib/python3.10/dist-packages/sklearn/model_selection/_search.py:909: UserWarning: With alpha=0, this algorithm does not converge well. You are advised to use the LinearRegression estimator\n",
            "  self.best_estimator_.fit(X, y, **fit_params)\n",
            "/usr/local/lib/python3.10/dist-packages/sklearn/linear_model/_coordinate_descent.py:631: UserWarning: Coordinate descent with no regularization may lead to unexpected results and is discouraged.\n",
            "  model = cd_fast.enet_coordinate_descent(\n",
            "/usr/local/lib/python3.10/dist-packages/sklearn/linear_model/_coordinate_descent.py:631: ConvergenceWarning: Objective did not converge. You might want to increase the number of iterations, check the scale of the features or consider increasing regularisation. Duality gap: 2.883e+01, tolerance: 4.150e-01 Linear regression models with null weight for the l1 regularization term are more efficiently fitted using one of the solvers implemented in sklearn.linear_model.Ridge/RidgeCV instead.\n",
            "  model = cd_fast.enet_coordinate_descent(\n"
          ]
        },
        {
          "output_type": "execute_result",
          "data": {
            "text/plain": [
              "GridSearchCV(cv=160, estimator=ElasticNet(), n_jobs=-1,\n",
              "             param_grid={'alpha': [0, 0.01, 0.02, 0.05, 0.1, 1, 2, 5, 10, 20,\n",
              "                                   50],\n",
              "                         'l1_ratio': [0, 0.1, 0.3, 0.5, 0.9, 0.99, 1],\n",
              "                         'max_iter': [10000], 'random_state': [42]},\n",
              "             return_train_score=True, scoring='neg_mean_squared_error',\n",
              "             verbose=2)"
            ],
            "text/html": [
              "<style>#sk-container-id-1 {color: black;background-color: white;}#sk-container-id-1 pre{padding: 0;}#sk-container-id-1 div.sk-toggleable {background-color: white;}#sk-container-id-1 label.sk-toggleable__label {cursor: pointer;display: block;width: 100%;margin-bottom: 0;padding: 0.3em;box-sizing: border-box;text-align: center;}#sk-container-id-1 label.sk-toggleable__label-arrow:before {content: \"▸\";float: left;margin-right: 0.25em;color: #696969;}#sk-container-id-1 label.sk-toggleable__label-arrow:hover:before {color: black;}#sk-container-id-1 div.sk-estimator:hover label.sk-toggleable__label-arrow:before {color: black;}#sk-container-id-1 div.sk-toggleable__content {max-height: 0;max-width: 0;overflow: hidden;text-align: left;background-color: #f0f8ff;}#sk-container-id-1 div.sk-toggleable__content pre {margin: 0.2em;color: black;border-radius: 0.25em;background-color: #f0f8ff;}#sk-container-id-1 input.sk-toggleable__control:checked~div.sk-toggleable__content {max-height: 200px;max-width: 100%;overflow: auto;}#sk-container-id-1 input.sk-toggleable__control:checked~label.sk-toggleable__label-arrow:before {content: \"▾\";}#sk-container-id-1 div.sk-estimator input.sk-toggleable__control:checked~label.sk-toggleable__label {background-color: #d4ebff;}#sk-container-id-1 div.sk-label input.sk-toggleable__control:checked~label.sk-toggleable__label {background-color: #d4ebff;}#sk-container-id-1 input.sk-hidden--visually {border: 0;clip: rect(1px 1px 1px 1px);clip: rect(1px, 1px, 1px, 1px);height: 1px;margin: -1px;overflow: hidden;padding: 0;position: absolute;width: 1px;}#sk-container-id-1 div.sk-estimator {font-family: monospace;background-color: #f0f8ff;border: 1px dotted black;border-radius: 0.25em;box-sizing: border-box;margin-bottom: 0.5em;}#sk-container-id-1 div.sk-estimator:hover {background-color: #d4ebff;}#sk-container-id-1 div.sk-parallel-item::after {content: \"\";width: 100%;border-bottom: 1px solid gray;flex-grow: 1;}#sk-container-id-1 div.sk-label:hover label.sk-toggleable__label {background-color: #d4ebff;}#sk-container-id-1 div.sk-serial::before {content: \"\";position: absolute;border-left: 1px solid gray;box-sizing: border-box;top: 0;bottom: 0;left: 50%;z-index: 0;}#sk-container-id-1 div.sk-serial {display: flex;flex-direction: column;align-items: center;background-color: white;padding-right: 0.2em;padding-left: 0.2em;position: relative;}#sk-container-id-1 div.sk-item {position: relative;z-index: 1;}#sk-container-id-1 div.sk-parallel {display: flex;align-items: stretch;justify-content: center;background-color: white;position: relative;}#sk-container-id-1 div.sk-item::before, #sk-container-id-1 div.sk-parallel-item::before {content: \"\";position: absolute;border-left: 1px solid gray;box-sizing: border-box;top: 0;bottom: 0;left: 50%;z-index: -1;}#sk-container-id-1 div.sk-parallel-item {display: flex;flex-direction: column;z-index: 1;position: relative;background-color: white;}#sk-container-id-1 div.sk-parallel-item:first-child::after {align-self: flex-end;width: 50%;}#sk-container-id-1 div.sk-parallel-item:last-child::after {align-self: flex-start;width: 50%;}#sk-container-id-1 div.sk-parallel-item:only-child::after {width: 0;}#sk-container-id-1 div.sk-dashed-wrapped {border: 1px dashed gray;margin: 0 0.4em 0.5em 0.4em;box-sizing: border-box;padding-bottom: 0.4em;background-color: white;}#sk-container-id-1 div.sk-label label {font-family: monospace;font-weight: bold;display: inline-block;line-height: 1.2em;}#sk-container-id-1 div.sk-label-container {text-align: center;}#sk-container-id-1 div.sk-container {/* jupyter's `normalize.less` sets `[hidden] { display: none; }` but bootstrap.min.css set `[hidden] { display: none !important; }` so we also need the `!important` here to be able to override the default hidden behavior on the sphinx rendered scikit-learn.org. See: https://github.com/scikit-learn/scikit-learn/issues/21755 */display: inline-block !important;position: relative;}#sk-container-id-1 div.sk-text-repr-fallback {display: none;}</style><div id=\"sk-container-id-1\" class=\"sk-top-container\"><div class=\"sk-text-repr-fallback\"><pre>GridSearchCV(cv=160, estimator=ElasticNet(), n_jobs=-1,\n",
              "             param_grid={&#x27;alpha&#x27;: [0, 0.01, 0.02, 0.05, 0.1, 1, 2, 5, 10, 20,\n",
              "                                   50],\n",
              "                         &#x27;l1_ratio&#x27;: [0, 0.1, 0.3, 0.5, 0.9, 0.99, 1],\n",
              "                         &#x27;max_iter&#x27;: [10000], &#x27;random_state&#x27;: [42]},\n",
              "             return_train_score=True, scoring=&#x27;neg_mean_squared_error&#x27;,\n",
              "             verbose=2)</pre><b>In a Jupyter environment, please rerun this cell to show the HTML representation or trust the notebook. <br />On GitHub, the HTML representation is unable to render, please try loading this page with nbviewer.org.</b></div><div class=\"sk-container\" hidden><div class=\"sk-item sk-dashed-wrapped\"><div class=\"sk-label-container\"><div class=\"sk-label sk-toggleable\"><input class=\"sk-toggleable__control sk-hidden--visually\" id=\"sk-estimator-id-1\" type=\"checkbox\" ><label for=\"sk-estimator-id-1\" class=\"sk-toggleable__label sk-toggleable__label-arrow\">GridSearchCV</label><div class=\"sk-toggleable__content\"><pre>GridSearchCV(cv=160, estimator=ElasticNet(), n_jobs=-1,\n",
              "             param_grid={&#x27;alpha&#x27;: [0, 0.01, 0.02, 0.05, 0.1, 1, 2, 5, 10, 20,\n",
              "                                   50],\n",
              "                         &#x27;l1_ratio&#x27;: [0, 0.1, 0.3, 0.5, 0.9, 0.99, 1],\n",
              "                         &#x27;max_iter&#x27;: [10000], &#x27;random_state&#x27;: [42]},\n",
              "             return_train_score=True, scoring=&#x27;neg_mean_squared_error&#x27;,\n",
              "             verbose=2)</pre></div></div></div><div class=\"sk-parallel\"><div class=\"sk-parallel-item\"><div class=\"sk-item\"><div class=\"sk-label-container\"><div class=\"sk-label sk-toggleable\"><input class=\"sk-toggleable__control sk-hidden--visually\" id=\"sk-estimator-id-2\" type=\"checkbox\" ><label for=\"sk-estimator-id-2\" class=\"sk-toggleable__label sk-toggleable__label-arrow\">estimator: ElasticNet</label><div class=\"sk-toggleable__content\"><pre>ElasticNet()</pre></div></div></div><div class=\"sk-serial\"><div class=\"sk-item\"><div class=\"sk-estimator sk-toggleable\"><input class=\"sk-toggleable__control sk-hidden--visually\" id=\"sk-estimator-id-3\" type=\"checkbox\" ><label for=\"sk-estimator-id-3\" class=\"sk-toggleable__label sk-toggleable__label-arrow\">ElasticNet</label><div class=\"sk-toggleable__content\"><pre>ElasticNet()</pre></div></div></div></div></div></div></div></div></div></div>"
            ]
          },
          "metadata": {},
          "execution_count": 34
        }
      ],
      "source": [
        "param_grid = {\n",
        "   'alpha': [0, 0.01, 0.02, 0.05, 0.1, 1, 2, 5, 10, 20, 50],\n",
        "   'l1_ratio': [0, 0.1, 0.3, 0.5, 0.9, 0.99, 1],\n",
        "   'max_iter': [10000],\n",
        "   'random_state': [42]\n",
        "}\n",
        "\n",
        "en_model = ElasticNet()\n",
        "en_cv_model = GridSearchCV(estimator=en_model, param_grid=param_grid,cv=len(X_train_poly_scaled),scoring='neg_mean_squared_error', return_train_score=True, n_jobs=-1,verbose=2)\n",
        "en_cv_model.fit(X_train_poly_scaled, y_train_poly)"
      ]
    },
    {
      "cell_type": "code",
      "execution_count": 35,
      "metadata": {
        "colab": {
          "base_uri": "https://localhost:8080/"
        },
        "id": "any18NwbfX0i",
        "outputId": "67ff6650-c2c7-4d3a-f6f7-d7f1c1c89501"
      },
      "outputs": [
        {
          "output_type": "stream",
          "name": "stdout",
          "text": [
            "{'alpha': 0, 'l1_ratio': 0, 'max_iter': 10000, 'random_state': 42}\n",
            "-0.4750962804576476\n",
            "0.6892722832507104\n"
          ]
        }
      ],
      "source": [
        "print(en_cv_model.best_params_)\n",
        "print(en_cv_model.best_score_)\n",
        "print(np.sqrt(abs(en_cv_model.best_score_).mean()))"
      ]
    },
    {
      "cell_type": "markdown",
      "metadata": {
        "id": "9WX8IZHbyF3e"
      },
      "source": [
        "## **Model 3: SVM**\n",
        "#### When to use:\n",
        "1. High sparsity & high number of features\n",
        "2. Small dataset\n",
        "3. Deal with non-linearity"
      ]
    },
    {
      "cell_type": "code",
      "execution_count": 36,
      "metadata": {
        "colab": {
          "base_uri": "https://localhost:8080/"
        },
        "id": "mT0BBC3iy4dE",
        "outputId": "1d1952df-fa28-4e87-f7c1-fa044e980ea0"
      },
      "outputs": [
        {
          "output_type": "stream",
          "name": "stdout",
          "text": [
            "RMSE: 1.3628743790165638 \n",
            "R2: 92.83849217608643\n"
          ]
        }
      ],
      "source": [
        "# Baseline SVR Model\n",
        "svr = SVR()\n",
        "svr.fit(X_train_scaled, y_train)\n",
        "rmse_svr_baseline, r2_svr_baseline = evaluate_score(svr, X_train_scaled, y_train)"
      ]
    },
    {
      "cell_type": "markdown",
      "metadata": {
        "id": "YhLiTPK01jID"
      },
      "source": [
        "### Hyperparameters Tuning"
      ]
    },
    {
      "cell_type": "code",
      "execution_count": null,
      "metadata": {
        "colab": {
          "background_save": true,
          "base_uri": "https://localhost:8080/"
        },
        "id": "9sRog-3k1pVn",
        "outputId": "5cf02888-169f-437d-c56e-f45d480edcea"
      },
      "outputs": [
        {
          "name": "stdout",
          "output_type": "stream",
          "text": [
            "Fitting 160 folds for each of 720 candidates, totalling 115200 fits\n"
          ]
        },
        {
          "name": "stderr",
          "output_type": "stream",
          "text": [
            "/usr/local/lib/python3.10/dist-packages/sklearn/model_selection/_validation.py:378: FitFailedWarning: \n",
            "57600 fits failed out of a total of 115200.\n",
            "The score on these train-test partitions for these parameters will be set to nan.\n",
            "If these failures are not expected, you can try to debug them by setting error_score='raise'.\n",
            "\n",
            "Below are more details about the failures:\n",
            "--------------------------------------------------------------------------------\n",
            "28910 fits failed with the following error:\n",
            "Traceback (most recent call last):\n",
            "  File \"/usr/local/lib/python3.10/dist-packages/sklearn/model_selection/_validation.py\", line 686, in _fit_and_score\n",
            "    estimator.fit(X_train, y_train, **fit_params)\n",
            "  File \"/usr/local/lib/python3.10/dist-packages/sklearn/svm/_base.py\", line 180, in fit\n",
            "    self._validate_params()\n",
            "  File \"/usr/local/lib/python3.10/dist-packages/sklearn/base.py\", line 600, in _validate_params\n",
            "    validate_parameter_constraints(\n",
            "  File \"/usr/local/lib/python3.10/dist-packages/sklearn/utils/_param_validation.py\", line 97, in validate_parameter_constraints\n",
            "    raise InvalidParameterError(\n",
            "sklearn.utils._param_validation.InvalidParameterError: The 'gamma' parameter of SVR must be a str among {'scale', 'auto'} or a float in the range [0.0, inf). Got 'scaled' instead.\n",
            "\n",
            "--------------------------------------------------------------------------------\n",
            "28690 fits failed with the following error:\n",
            "Traceback (most recent call last):\n",
            "  File \"/usr/local/lib/python3.10/dist-packages/sklearn/model_selection/_validation.py\", line 686, in _fit_and_score\n",
            "    estimator.fit(X_train, y_train, **fit_params)\n",
            "  File \"/usr/local/lib/python3.10/dist-packages/sklearn/svm/_base.py\", line 180, in fit\n",
            "    self._validate_params()\n",
            "  File \"/usr/local/lib/python3.10/dist-packages/sklearn/base.py\", line 600, in _validate_params\n",
            "    validate_parameter_constraints(\n",
            "  File \"/usr/local/lib/python3.10/dist-packages/sklearn/utils/_param_validation.py\", line 97, in validate_parameter_constraints\n",
            "    raise InvalidParameterError(\n",
            "sklearn.utils._param_validation.InvalidParameterError: The 'gamma' parameter of SVR must be a str among {'auto', 'scale'} or a float in the range [0.0, inf). Got 'scaled' instead.\n",
            "\n",
            "  warnings.warn(some_fits_failed_message, FitFailedWarning)\n",
            "/usr/local/lib/python3.10/dist-packages/sklearn/model_selection/_search.py:952: UserWarning: One or more of the test scores are non-finite: [         nan          nan          nan -17.37549824 -21.29728197\n",
            " -23.99025058          nan          nan          nan -17.35967346\n",
            " -21.2949447  -23.99009331          nan          nan          nan\n",
            " -17.30851304 -21.0722168  -24.15803389          nan          nan\n",
            "          nan -16.92221521 -20.814184   -23.84252573          nan\n",
            "          nan          nan -17.26326652 -21.05040935 -23.81138037\n",
            "          nan          nan          nan -26.40610731 -27.029623\n",
            " -27.19880184          nan          nan          nan -17.37549824\n",
            " -21.29728197 -25.09903644          nan          nan          nan\n",
            " -17.35967346 -21.2949447  -25.08443941          nan          nan\n",
            "          nan -17.30851304 -21.0722168  -25.65242042          nan\n",
            "          nan          nan -16.92221521 -20.814184   -25.01686722\n",
            "          nan          nan          nan -17.26326652 -21.05040935\n",
            " -24.92103382          nan          nan          nan -26.40610731\n",
            " -27.029623   -27.29334006          nan          nan          nan\n",
            " -17.37549824 -21.29728197 -25.87340182          nan          nan\n",
            "          nan -17.35967346 -21.2949447  -25.90110621          nan\n",
            "          nan          nan -17.30851304 -21.0722168  -26.44485728\n",
            "          nan          nan          nan -16.92221521 -20.814184\n",
            " -25.80938237          nan          nan          nan -17.26326652\n",
            " -21.05040935 -25.76332281          nan          nan          nan\n",
            " -26.40610731 -27.029623   -27.42870656          nan          nan\n",
            "          nan -17.37549824 -21.29728197 -26.28642102          nan\n",
            "          nan          nan -17.35967346 -21.2949447  -26.31757114\n",
            "          nan          nan          nan -17.30851304 -21.0722168\n",
            " -26.86030462          nan          nan          nan -16.92221521\n",
            " -20.814184   -26.21907632          nan          nan          nan\n",
            " -17.26326652 -21.05040935 -26.18280473          nan          nan\n",
            "          nan -26.40610731 -27.029623   -27.5151302           nan\n",
            "          nan          nan -17.37549824 -21.29728197 -26.49908303\n",
            "          nan          nan          nan -17.35967346 -21.2949447\n",
            " -26.53086382          nan          nan          nan -17.30851304\n",
            " -21.0722168  -27.07220995          nan          nan          nan\n",
            " -16.92221521 -20.814184   -26.42637079          nan          nan\n",
            "          nan -17.26326652 -21.05040935 -26.39688545          nan\n",
            "          nan          nan -26.40610731 -27.029623   -27.568528\n",
            "          nan          nan          nan  -3.74549058  -3.8377304\n",
            "  -7.59189135          nan          nan          nan  -3.72160418\n",
            "  -3.83801426  -7.55393615          nan          nan          nan\n",
            "  -3.69975179  -3.92326721  -7.31727147          nan          nan\n",
            "          nan  -3.73411656  -4.23967151  -7.7728673           nan\n",
            "          nan          nan  -3.55103894  -4.38840802  -8.35460606\n",
            "          nan          nan          nan -20.98287594 -24.18522775\n",
            " -25.13520077          nan          nan          nan  -3.74549058\n",
            "  -3.8377304  -14.31387412          nan          nan          nan\n",
            "  -3.72160418  -3.83801426 -14.31269375          nan          nan\n",
            "          nan  -3.69975179  -3.92326721 -13.8542182           nan\n",
            "          nan          nan  -3.73411656  -4.23967151 -14.07408204\n",
            "          nan          nan          nan  -3.55103894  -4.38840802\n",
            " -14.19038313          nan          nan          nan -20.98287594\n",
            " -24.18522775 -25.32309589          nan          nan          nan\n",
            "  -3.74549058  -3.8377304  -19.25963688          nan          nan\n",
            "          nan  -3.72160418  -3.83801426 -19.2584573           nan\n",
            "          nan          nan  -3.69975179  -3.92326721 -19.26770741\n",
            "          nan          nan          nan  -3.73411656  -4.23967151\n",
            " -19.58446152          nan          nan          nan  -3.55103894\n",
            "  -4.38840802 -19.40790764          nan          nan          nan\n",
            " -20.98287594 -24.18522775 -26.10332632          nan          nan\n",
            "          nan  -3.74549058  -3.8377304  -22.53928091          nan\n",
            "          nan          nan  -3.72160418  -3.83801426 -22.52721174\n",
            "          nan          nan          nan  -3.69975179  -3.92326721\n",
            " -22.90517015          nan          nan          nan  -3.73411656\n",
            "  -4.23967151 -22.5002895           nan          nan          nan\n",
            "  -3.55103894  -4.38840802 -22.48666558          nan          nan\n",
            "          nan -20.98287594 -24.18522775 -26.68102839          nan\n",
            "          nan          nan  -3.74549058  -3.8377304  -24.37605619\n",
            "          nan          nan          nan  -3.72160418  -3.83801426\n",
            " -24.40751556          nan          nan          nan  -3.69975179\n",
            "  -3.92326721 -24.95249276          nan          nan          nan\n",
            "  -3.73411656  -4.23967151 -24.36441268          nan          nan\n",
            "          nan  -3.55103894  -4.38840802 -24.21618868          nan\n",
            "          nan          nan -20.98287594 -24.18522775 -27.03960924\n",
            "          nan          nan          nan  -3.2125802   -1.0958508\n",
            "  -2.30037826          nan          nan          nan  -3.23157219\n",
            "  -1.0857407   -2.28281946          nan          nan          nan\n",
            "  -3.16958388  -1.06881999  -2.23529782          nan          nan\n",
            "          nan  -3.17569898  -1.24975357  -2.29882483          nan\n",
            "          nan          nan  -2.92114214  -1.45637741  -2.40992295\n",
            "          nan          nan          nan -15.61050558 -20.09637618\n",
            " -20.12746422          nan          nan          nan  -3.2125802\n",
            "  -1.0958508   -5.25725025          nan          nan          nan\n",
            "  -3.23157219  -1.0857407   -5.26781117          nan          nan\n",
            "          nan  -3.16958388  -1.06881999  -5.27888495          nan\n",
            "          nan          nan  -3.17569898  -1.24975357  -5.37392644\n",
            "          nan          nan          nan  -2.92114214  -1.45637741\n",
            "  -5.15875914          nan          nan          nan -15.61050558\n",
            " -20.09637618 -21.63978758          nan          nan          nan\n",
            "  -3.2125802   -1.0958508   -9.09451291          nan          nan\n",
            "          nan  -3.23157219  -1.0857407   -9.07825732          nan\n",
            "          nan          nan  -3.16958388  -1.06881999  -8.95048704\n",
            "          nan          nan          nan  -3.17569898  -1.24975357\n",
            "  -8.94886219          nan          nan          nan  -2.92114214\n",
            "  -1.45637741  -9.18328372          nan          nan          nan\n",
            " -15.61050558 -20.09637618 -23.55892154          nan          nan\n",
            "          nan  -3.2125802   -1.0958508  -13.34097169          nan\n",
            "          nan          nan  -3.23157219  -1.0857407  -13.34756699\n",
            "          nan          nan          nan  -3.16958388  -1.06881999\n",
            " -13.39455001          nan          nan          nan  -3.17569898\n",
            "  -1.24975357 -13.48060998          nan          nan          nan\n",
            "  -2.92114214  -1.45637741 -13.54919425          nan          nan\n",
            "          nan -15.61050558 -20.09637618 -24.73525156          nan\n",
            "          nan          nan  -3.2125802   -1.0958508  -17.21750422\n",
            "          nan          nan          nan  -3.23157219  -1.0857407\n",
            " -17.2832623           nan          nan          nan  -3.16958388\n",
            "  -1.06881999 -17.40063362          nan          nan          nan\n",
            "  -3.17569898  -1.24975357 -17.74792821          nan          nan\n",
            "          nan  -2.92114214  -1.45637741 -17.94423859          nan\n",
            "          nan          nan -15.61050558 -20.09637618 -25.04429004\n",
            "          nan          nan          nan  -3.37777992  -0.82381019\n",
            "  -1.87584             nan          nan          nan  -3.34836283\n",
            "  -0.8345207   -1.86328578          nan          nan          nan\n",
            "  -3.11769187  -0.86807187  -1.89863512          nan          nan\n",
            "          nan  -3.01747314  -0.84556315  -1.99052182          nan\n",
            "          nan          nan  -2.98882578  -1.09026703  -1.94545492\n",
            "          nan          nan          nan -15.10728892 -15.56489184\n",
            " -18.22808256          nan          nan          nan  -3.37777992\n",
            "  -0.82381019  -4.21225479          nan          nan          nan\n",
            "  -3.34836283  -0.8345207   -4.22393906          nan          nan\n",
            "          nan  -3.11769187  -0.86807187  -4.25756322          nan\n",
            "          nan          nan  -3.01747314  -0.84556315  -4.40741346\n",
            "          nan          nan          nan  -2.98882578  -1.09026703\n",
            "  -4.47060094          nan          nan          nan -15.10728892\n",
            " -15.56489184 -19.74041294          nan          nan          nan\n",
            "  -3.37777992  -0.82381019  -7.77689516          nan          nan\n",
            "          nan  -3.34836283  -0.8345207   -7.79849272          nan\n",
            "          nan          nan  -3.11769187  -0.86807187  -7.76205573\n",
            "          nan          nan          nan  -3.01747314  -0.84556315\n",
            "  -7.84099869          nan          nan          nan  -2.98882578\n",
            "  -1.09026703  -7.91635839          nan          nan          nan\n",
            " -15.10728892 -15.56489184 -21.13194232          nan          nan\n",
            "          nan  -3.37777992  -0.82381019 -10.71468194          nan\n",
            "          nan          nan  -3.34836283  -0.8345207  -10.74381261\n",
            "          nan          nan          nan  -3.11769187  -0.86807187\n",
            " -10.87443639          nan          nan          nan  -3.01747314\n",
            "  -0.84556315 -10.87682913          nan          nan          nan\n",
            "  -2.98882578  -1.09026703 -11.38583183          nan          nan\n",
            "          nan -15.10728892 -15.56489184 -23.22372328          nan\n",
            "          nan          nan  -3.37777992  -0.82381019 -14.26701065\n",
            "          nan          nan          nan  -3.34836283  -0.8345207\n",
            " -14.22196112          nan          nan          nan  -3.11769187\n",
            "  -0.86807187 -13.93249706          nan          nan          nan\n",
            "  -3.01747314  -0.84556315 -14.45464631          nan          nan\n",
            "          nan  -2.98882578  -1.09026703 -14.45774398          nan\n",
            "          nan          nan -15.10728892 -15.56489184 -24.81648509]\n",
            "  warnings.warn(\n",
            "/usr/local/lib/python3.10/dist-packages/sklearn/model_selection/_search.py:952: UserWarning: One or more of the train scores are non-finite: [         nan          nan          nan -17.0052155  -20.85046738\n",
            " -23.77947601          nan          nan          nan -17.01055109\n",
            " -20.85183056 -23.77944249          nan          nan          nan\n",
            " -16.98007634 -20.89020605 -23.80688451          nan          nan\n",
            "          nan -16.6867987  -20.54575787 -23.57556519          nan\n",
            "          nan          nan -16.9625681  -20.71190549 -23.51145385\n",
            "          nan          nan          nan -26.30426803 -26.97979551\n",
            " -27.16402072          nan          nan          nan -17.0052155\n",
            " -20.85046738 -25.01118027          nan          nan          nan\n",
            " -17.01055109 -20.85183056 -25.01706988          nan          nan\n",
            "          nan -16.98007634 -20.89020605 -25.05058819          nan\n",
            "          nan          nan -16.6867987  -20.54575787 -24.81614689\n",
            "          nan          nan          nan -16.9625681  -20.71190549\n",
            " -24.67151792          nan          nan          nan -26.30426803\n",
            " -26.97979551 -27.25244314          nan          nan          nan\n",
            " -17.0052155  -20.85046738 -25.82654525          nan          nan\n",
            "          nan -17.01055109 -20.85183056 -25.81976874          nan\n",
            "          nan          nan -16.98007634 -20.89020605 -25.82151653\n",
            "          nan          nan          nan -16.6867987  -20.54575787\n",
            " -25.58608284          nan          nan          nan -16.9625681\n",
            " -20.71190549 -25.39690235          nan          nan          nan\n",
            " -26.30426803 -26.97979551 -27.39156316          nan          nan\n",
            "          nan -17.0052155  -20.85046738 -26.26049265          nan\n",
            "          nan          nan -17.01055109 -20.85183056 -26.25217042\n",
            "          nan          nan          nan -16.98007634 -20.89020605\n",
            " -26.23300333          nan          nan          nan -16.6867987\n",
            " -20.54575787 -25.99448484          nan          nan          nan\n",
            " -16.9625681  -20.71190549 -25.78840056          nan          nan\n",
            "          nan -26.30426803 -26.97979551 -27.48149852          nan\n",
            "          nan          nan -17.0052155  -20.85046738 -26.48297405\n",
            "          nan          nan          nan -17.01055109 -20.85183056\n",
            " -26.47403962          nan          nan          nan -16.98007634\n",
            " -20.89020605 -26.44607912          nan          nan          nan\n",
            " -16.6867987  -20.54575787 -26.20533422          nan          nan\n",
            "          nan -16.9625681  -20.71190549 -25.99163539          nan\n",
            "          nan          nan -26.30426803 -26.97979551 -27.53734505\n",
            "          nan          nan          nan  -3.52016751  -3.74408059\n",
            "  -7.16801298          nan          nan          nan  -3.51765184\n",
            "  -3.73054065  -7.16723047          nan          nan          nan\n",
            "  -3.48434912  -3.75009849  -7.15920885          nan          nan\n",
            "          nan  -3.36760781  -3.94759638  -7.54983602          nan\n",
            "          nan          nan  -3.42702427  -4.15363509  -8.12872389\n",
            "          nan          nan          nan -20.48089633 -23.92330661\n",
            " -24.97557465          nan          nan          nan  -3.52016751\n",
            "  -3.74408059 -13.49213393          nan          nan          nan\n",
            "  -3.51765184  -3.73054065 -13.49216569          nan          nan\n",
            "          nan  -3.48434912  -3.75009849 -13.48471767          nan\n",
            "          nan          nan  -3.36760781  -3.94759638 -13.48850413\n",
            "          nan          nan          nan  -3.42702427  -4.15363509\n",
            " -13.79330242          nan          nan          nan -20.48089633\n",
            " -23.92330661 -25.13900562          nan          nan          nan\n",
            "  -3.52016751  -3.74408059 -18.88519604          nan          nan\n",
            "          nan  -3.51765184  -3.73054065 -18.88536476          nan\n",
            "          nan          nan  -3.48434912  -3.75009849 -18.93484718\n",
            "          nan          nan          nan  -3.36760781  -3.94759638\n",
            " -18.76898905          nan          nan          nan  -3.42702427\n",
            "  -4.15363509 -18.84340731          nan          nan          nan\n",
            " -20.48089633 -23.92330661 -25.97898779          nan          nan\n",
            "          nan  -3.52016751  -3.74408059 -22.29493681          nan\n",
            "          nan          nan  -3.51765184  -3.73054065 -22.29714257\n",
            "          nan          nan          nan  -3.48434912  -3.75009849\n",
            " -22.32653142          nan          nan          nan  -3.36760781\n",
            "  -3.94759638 -22.14778654          nan          nan          nan\n",
            "  -3.42702427  -4.15363509 -22.10880795          nan          nan\n",
            "          nan -20.48089633 -23.92330661 -26.60613637          nan\n",
            "          nan          nan  -3.52016751  -3.74408059 -24.23248745\n",
            "          nan          nan          nan  -3.51765184  -3.73054065\n",
            " -24.22665341          nan          nan          nan  -3.48434912\n",
            "  -3.75009849 -24.24540121          nan          nan          nan\n",
            "  -3.36760781  -3.94759638 -24.03528424          nan          nan\n",
            "          nan  -3.42702427  -4.15363509 -23.88610392          nan\n",
            "          nan          nan -20.48089633 -23.92330661 -26.99948022\n",
            "          nan          nan          nan  -3.05060009  -1.00216337\n",
            "  -2.19682966          nan          nan          nan  -3.04366422\n",
            "  -0.99519202  -2.18784785          nan          nan          nan\n",
            "  -2.94603264  -0.99489656  -2.16257594          nan          nan\n",
            "          nan  -2.91671619  -1.12517565  -2.22263571          nan\n",
            "          nan          nan  -2.8250142   -1.35069107  -2.31895877\n",
            "          nan          nan          nan -15.15843742 -19.8507643\n",
            " -19.74644055          nan          nan          nan  -3.05060009\n",
            "  -1.00216337  -5.01316388          nan          nan          nan\n",
            "  -3.04366422  -0.99519202  -5.01689169          nan          nan\n",
            "          nan  -2.94603264  -0.99489656  -5.04347176          nan\n",
            "          nan          nan  -2.91671619  -1.12517565  -5.15503535\n",
            "          nan          nan          nan  -2.8250142   -1.35069107\n",
            "  -4.98544802          nan          nan          nan -15.15843742\n",
            " -19.8507643  -21.22424019          nan          nan          nan\n",
            "  -3.05060009  -1.00216337  -8.7120854           nan          nan\n",
            "          nan  -3.04366422  -0.99519202  -8.71324086          nan\n",
            "          nan          nan  -2.94603264  -0.99489656  -8.6776689\n",
            "          nan          nan          nan  -2.91671619  -1.12517565\n",
            "  -8.74280323          nan          nan          nan  -2.8250142\n",
            "  -1.35069107  -9.04006052          nan          nan          nan\n",
            " -15.15843742 -19.8507643  -23.28191093          nan          nan\n",
            "          nan  -3.05060009  -1.00216337 -12.96682858          nan\n",
            "          nan          nan  -3.04366422  -0.99519202 -12.96612563\n",
            "          nan          nan          nan  -2.94603264  -0.99489656\n",
            " -12.96414244          nan          nan          nan  -2.91671619\n",
            "  -1.12517565 -12.98999382          nan          nan          nan\n",
            "  -2.8250142   -1.35069107 -13.2085465           nan          nan\n",
            "          nan -15.15843742 -19.8507643  -24.54977132          nan\n",
            "          nan          nan  -3.05060009  -1.00216337 -17.02945764\n",
            "          nan          nan          nan  -3.04366422  -0.99519202\n",
            " -17.03408904          nan          nan          nan  -2.94603264\n",
            "  -0.99489656 -17.07460902          nan          nan          nan\n",
            "  -2.91671619  -1.12517565 -17.20843998          nan          nan\n",
            "          nan  -2.8250142   -1.35069107 -17.45360949          nan\n",
            "          nan          nan -15.15843742 -19.8507643  -24.80535497\n",
            "          nan          nan          nan  -2.90906932  -0.76272021\n",
            "  -1.83202644          nan          nan          nan  -2.90715388\n",
            "  -0.76437182  -1.82807351          nan          nan          nan\n",
            "  -2.89172962  -0.77852107  -1.83060068          nan          nan\n",
            "          nan  -2.87334742  -0.76644242  -1.88076543          nan\n",
            "          nan          nan  -2.79234096  -0.99173249  -1.8207403\n",
            "          nan          nan          nan -14.62140369 -15.08551617\n",
            " -18.03476666          nan          nan          nan  -2.90906932\n",
            "  -0.76272021  -4.08788455          nan          nan          nan\n",
            "  -2.90715388  -0.76437182  -4.09118521          nan          nan\n",
            "          nan  -2.89172962  -0.77852107  -4.06274835          nan\n",
            "          nan          nan  -2.87334742  -0.76644242  -4.15791695\n",
            "          nan          nan          nan  -2.79234096  -0.99173249\n",
            "  -4.17668866          nan          nan          nan -14.62140369\n",
            " -15.08551617 -19.46130418          nan          nan          nan\n",
            "  -2.90906932  -0.76272021  -7.37766518          nan          nan\n",
            "          nan  -2.90715388  -0.76437182  -7.37683009          nan\n",
            "          nan          nan  -2.89172962  -0.77852107  -7.37831156\n",
            "          nan          nan          nan  -2.87334742  -0.76644242\n",
            "  -7.48452988          nan          nan          nan  -2.79234096\n",
            "  -0.99173249  -7.56499887          nan          nan          nan\n",
            " -14.62140369 -15.08551617 -20.66629788          nan          nan\n",
            "          nan  -2.90906932  -0.76272021 -10.42412743          nan\n",
            "          nan          nan  -2.90715388  -0.76437182 -10.42817158\n",
            "          nan          nan          nan  -2.89172962  -0.77852107\n",
            " -10.47729338          nan          nan          nan  -2.87334742\n",
            "  -0.76644242 -10.64293939          nan          nan          nan\n",
            "  -2.79234096  -0.99173249 -10.92431536          nan          nan\n",
            "          nan -14.62140369 -15.08551617 -22.90176716          nan\n",
            "          nan          nan  -2.90906932  -0.76272021 -13.64459767\n",
            "          nan          nan          nan  -2.90715388  -0.76437182\n",
            " -13.64662715          nan          nan          nan  -2.89172962\n",
            "  -0.77852107 -13.68632393          nan          nan          nan\n",
            "  -2.87334742  -0.76644242 -13.8887264           nan          nan\n",
            "          nan  -2.79234096  -0.99173249 -14.13643079          nan\n",
            "          nan          nan -14.62140369 -15.08551617 -24.62940361]\n",
            "  warnings.warn(\n"
          ]
        },
        {
          "data": {
            "text/html": [
              "<style>#sk-container-id-2 {color: black;background-color: white;}#sk-container-id-2 pre{padding: 0;}#sk-container-id-2 div.sk-toggleable {background-color: white;}#sk-container-id-2 label.sk-toggleable__label {cursor: pointer;display: block;width: 100%;margin-bottom: 0;padding: 0.3em;box-sizing: border-box;text-align: center;}#sk-container-id-2 label.sk-toggleable__label-arrow:before {content: \"▸\";float: left;margin-right: 0.25em;color: #696969;}#sk-container-id-2 label.sk-toggleable__label-arrow:hover:before {color: black;}#sk-container-id-2 div.sk-estimator:hover label.sk-toggleable__label-arrow:before {color: black;}#sk-container-id-2 div.sk-toggleable__content {max-height: 0;max-width: 0;overflow: hidden;text-align: left;background-color: #f0f8ff;}#sk-container-id-2 div.sk-toggleable__content pre {margin: 0.2em;color: black;border-radius: 0.25em;background-color: #f0f8ff;}#sk-container-id-2 input.sk-toggleable__control:checked~div.sk-toggleable__content {max-height: 200px;max-width: 100%;overflow: auto;}#sk-container-id-2 input.sk-toggleable__control:checked~label.sk-toggleable__label-arrow:before {content: \"▾\";}#sk-container-id-2 div.sk-estimator input.sk-toggleable__control:checked~label.sk-toggleable__label {background-color: #d4ebff;}#sk-container-id-2 div.sk-label input.sk-toggleable__control:checked~label.sk-toggleable__label {background-color: #d4ebff;}#sk-container-id-2 input.sk-hidden--visually {border: 0;clip: rect(1px 1px 1px 1px);clip: rect(1px, 1px, 1px, 1px);height: 1px;margin: -1px;overflow: hidden;padding: 0;position: absolute;width: 1px;}#sk-container-id-2 div.sk-estimator {font-family: monospace;background-color: #f0f8ff;border: 1px dotted black;border-radius: 0.25em;box-sizing: border-box;margin-bottom: 0.5em;}#sk-container-id-2 div.sk-estimator:hover {background-color: #d4ebff;}#sk-container-id-2 div.sk-parallel-item::after {content: \"\";width: 100%;border-bottom: 1px solid gray;flex-grow: 1;}#sk-container-id-2 div.sk-label:hover label.sk-toggleable__label {background-color: #d4ebff;}#sk-container-id-2 div.sk-serial::before {content: \"\";position: absolute;border-left: 1px solid gray;box-sizing: border-box;top: 0;bottom: 0;left: 50%;z-index: 0;}#sk-container-id-2 div.sk-serial {display: flex;flex-direction: column;align-items: center;background-color: white;padding-right: 0.2em;padding-left: 0.2em;position: relative;}#sk-container-id-2 div.sk-item {position: relative;z-index: 1;}#sk-container-id-2 div.sk-parallel {display: flex;align-items: stretch;justify-content: center;background-color: white;position: relative;}#sk-container-id-2 div.sk-item::before, #sk-container-id-2 div.sk-parallel-item::before {content: \"\";position: absolute;border-left: 1px solid gray;box-sizing: border-box;top: 0;bottom: 0;left: 50%;z-index: -1;}#sk-container-id-2 div.sk-parallel-item {display: flex;flex-direction: column;z-index: 1;position: relative;background-color: white;}#sk-container-id-2 div.sk-parallel-item:first-child::after {align-self: flex-end;width: 50%;}#sk-container-id-2 div.sk-parallel-item:last-child::after {align-self: flex-start;width: 50%;}#sk-container-id-2 div.sk-parallel-item:only-child::after {width: 0;}#sk-container-id-2 div.sk-dashed-wrapped {border: 1px dashed gray;margin: 0 0.4em 0.5em 0.4em;box-sizing: border-box;padding-bottom: 0.4em;background-color: white;}#sk-container-id-2 div.sk-label label {font-family: monospace;font-weight: bold;display: inline-block;line-height: 1.2em;}#sk-container-id-2 div.sk-label-container {text-align: center;}#sk-container-id-2 div.sk-container {/* jupyter's `normalize.less` sets `[hidden] { display: none; }` but bootstrap.min.css set `[hidden] { display: none !important; }` so we also need the `!important` here to be able to override the default hidden behavior on the sphinx rendered scikit-learn.org. See: https://github.com/scikit-learn/scikit-learn/issues/21755 */display: inline-block !important;position: relative;}#sk-container-id-2 div.sk-text-repr-fallback {display: none;}</style><div id=\"sk-container-id-2\" class=\"sk-top-container\"><div class=\"sk-text-repr-fallback\"><pre>GridSearchCV(cv=160, estimator=SVR(), n_jobs=-1,\n",
              "             param_grid={&#x27;C&#x27;: [0.1, 1, 5, 10], &#x27;degree&#x27;: [2, 3, 4, 5, 6],\n",
              "                         &#x27;epsilon&#x27;: [0, 0.01, 0.1, 0.5, 1, 10],\n",
              "                         &#x27;gamma&#x27;: [&#x27;scaled&#x27;, &#x27;auto&#x27;],\n",
              "                         &#x27;kernel&#x27;: [&#x27;linear&#x27;, &#x27;rbf&#x27;, &#x27;poly&#x27;]},\n",
              "             return_train_score=True, scoring=&#x27;neg_mean_squared_error&#x27;,\n",
              "             verbose=2)</pre><b>In a Jupyter environment, please rerun this cell to show the HTML representation or trust the notebook. <br />On GitHub, the HTML representation is unable to render, please try loading this page with nbviewer.org.</b></div><div class=\"sk-container\" hidden><div class=\"sk-item sk-dashed-wrapped\"><div class=\"sk-label-container\"><div class=\"sk-label sk-toggleable\"><input class=\"sk-toggleable__control sk-hidden--visually\" id=\"sk-estimator-id-4\" type=\"checkbox\" ><label for=\"sk-estimator-id-4\" class=\"sk-toggleable__label sk-toggleable__label-arrow\">GridSearchCV</label><div class=\"sk-toggleable__content\"><pre>GridSearchCV(cv=160, estimator=SVR(), n_jobs=-1,\n",
              "             param_grid={&#x27;C&#x27;: [0.1, 1, 5, 10], &#x27;degree&#x27;: [2, 3, 4, 5, 6],\n",
              "                         &#x27;epsilon&#x27;: [0, 0.01, 0.1, 0.5, 1, 10],\n",
              "                         &#x27;gamma&#x27;: [&#x27;scaled&#x27;, &#x27;auto&#x27;],\n",
              "                         &#x27;kernel&#x27;: [&#x27;linear&#x27;, &#x27;rbf&#x27;, &#x27;poly&#x27;]},\n",
              "             return_train_score=True, scoring=&#x27;neg_mean_squared_error&#x27;,\n",
              "             verbose=2)</pre></div></div></div><div class=\"sk-parallel\"><div class=\"sk-parallel-item\"><div class=\"sk-item\"><div class=\"sk-label-container\"><div class=\"sk-label sk-toggleable\"><input class=\"sk-toggleable__control sk-hidden--visually\" id=\"sk-estimator-id-5\" type=\"checkbox\" ><label for=\"sk-estimator-id-5\" class=\"sk-toggleable__label sk-toggleable__label-arrow\">estimator: SVR</label><div class=\"sk-toggleable__content\"><pre>SVR()</pre></div></div></div><div class=\"sk-serial\"><div class=\"sk-item\"><div class=\"sk-estimator sk-toggleable\"><input class=\"sk-toggleable__control sk-hidden--visually\" id=\"sk-estimator-id-6\" type=\"checkbox\" ><label for=\"sk-estimator-id-6\" class=\"sk-toggleable__label sk-toggleable__label-arrow\">SVR</label><div class=\"sk-toggleable__content\"><pre>SVR()</pre></div></div></div></div></div></div></div></div></div></div>"
            ],
            "text/plain": [
              "GridSearchCV(cv=160, estimator=SVR(), n_jobs=-1,\n",
              "             param_grid={'C': [0.1, 1, 5, 10], 'degree': [2, 3, 4, 5, 6],\n",
              "                         'epsilon': [0, 0.01, 0.1, 0.5, 1, 10],\n",
              "                         'gamma': ['scaled', 'auto'],\n",
              "                         'kernel': ['linear', 'rbf', 'poly']},\n",
              "             return_train_score=True, scoring='neg_mean_squared_error',\n",
              "             verbose=2)"
            ]
          },
          "execution_count": 45,
          "metadata": {},
          "output_type": "execute_result"
        }
      ],
      "source": [
        "param_grid = {\n",
        "    'kernel': ['linear', 'rbf', 'poly'],\n",
        "    'degree': [2,3,4,5,6],\n",
        "    'C': [0.1, 1, 5, 9, 10], #smaller C, higher margin\n",
        "    'gamma': ['scaled', 'auto'], #smaller gamma, more flexible model (used with non-linear model)\n",
        "    'epsilon': [0, 0.01, 0.1, 0.5, 1, 10] #larger epsilon, more tolerance for errors\n",
        "}\n",
        "\n",
        "svr_cv_model = GridSearchCV(estimator=SVR(), param_grid=param_grid,cv=len(X_train_scaled),scoring='neg_mean_squared_error', return_train_score=True, n_jobs=-1,verbose=2)\n",
        "svr_cv_model.fit(X_train_scaled, y_train)"
      ]
    },
    {
      "cell_type": "code",
      "execution_count": null,
      "metadata": {
        "colab": {
          "background_save": true
        },
        "id": "Eg-xwpfB-d5n",
        "outputId": "1122aabd-fee9-4008-904e-dfb06214558a"
      },
      "outputs": [
        {
          "name": "stdout",
          "output_type": "stream",
          "text": [
            "{'C': 10, 'degree': 2, 'epsilon': 0, 'gamma': 'auto', 'kernel': 'rbf'}\n",
            "-0.8238101919852026\n",
            "0.9076399021556967\n"
          ]
        }
      ],
      "source": [
        "print(svr_cv_model.best_params_)\n",
        "print(svr_cv_model.best_score_)\n",
        "print(np.sqrt(abs(svr_cv_model.best_score_).mean()))"
      ]
    },
    {
      "cell_type": "code",
      "source": [
        "# Try out more value for C\n",
        "\n",
        "param_grid = {\n",
        "    'kernel': ['rbf'],\n",
        "    'degree': [2,3,5],\n",
        "    'C': [10, 20, 25, 30, 40, 50, 100, 200, 220, 250, 300, 400, 500, 700, 900, 1000], #smaller C, higher margin\n",
        "    'gamma': ['auto'], #smaller gamma, more flexible model (used with non-linear model)\n",
        "    'epsilon': [0] #larger epsilon, more tolerance for errors\n",
        "}\n",
        "\n",
        "svr_cv_model_test = GridSearchCV(estimator=SVR(), param_grid=param_grid,cv=len(X_train_scaled),scoring='neg_mean_squared_error', return_train_score=True, n_jobs=-1,verbose=2)\n",
        "svr_cv_model_test.fit(X_train_scaled, y_train)"
      ],
      "metadata": {
        "colab": {
          "base_uri": "https://localhost:8080/",
          "height": 135
        },
        "id": "iksDGg39fEd_",
        "outputId": "81ae0d63-af77-4ddb-d5f5-cff2ac710d5c"
      },
      "execution_count": 51,
      "outputs": [
        {
          "output_type": "stream",
          "name": "stdout",
          "text": [
            "Fitting 160 folds for each of 48 candidates, totalling 7680 fits\n"
          ]
        },
        {
          "output_type": "execute_result",
          "data": {
            "text/plain": [
              "GridSearchCV(cv=160, estimator=SVR(), n_jobs=-1,\n",
              "             param_grid={'C': [10, 20, 25, 30, 40, 50, 100, 200, 220, 250, 300,\n",
              "                               400, 500, 700, 900, 1000],\n",
              "                         'degree': [2, 3, 5], 'epsilon': [0], 'gamma': ['auto'],\n",
              "                         'kernel': ['rbf']},\n",
              "             return_train_score=True, scoring='neg_mean_squared_error',\n",
              "             verbose=2)"
            ],
            "text/html": [
              "<style>#sk-container-id-8 {color: black;background-color: white;}#sk-container-id-8 pre{padding: 0;}#sk-container-id-8 div.sk-toggleable {background-color: white;}#sk-container-id-8 label.sk-toggleable__label {cursor: pointer;display: block;width: 100%;margin-bottom: 0;padding: 0.3em;box-sizing: border-box;text-align: center;}#sk-container-id-8 label.sk-toggleable__label-arrow:before {content: \"▸\";float: left;margin-right: 0.25em;color: #696969;}#sk-container-id-8 label.sk-toggleable__label-arrow:hover:before {color: black;}#sk-container-id-8 div.sk-estimator:hover label.sk-toggleable__label-arrow:before {color: black;}#sk-container-id-8 div.sk-toggleable__content {max-height: 0;max-width: 0;overflow: hidden;text-align: left;background-color: #f0f8ff;}#sk-container-id-8 div.sk-toggleable__content pre {margin: 0.2em;color: black;border-radius: 0.25em;background-color: #f0f8ff;}#sk-container-id-8 input.sk-toggleable__control:checked~div.sk-toggleable__content {max-height: 200px;max-width: 100%;overflow: auto;}#sk-container-id-8 input.sk-toggleable__control:checked~label.sk-toggleable__label-arrow:before {content: \"▾\";}#sk-container-id-8 div.sk-estimator input.sk-toggleable__control:checked~label.sk-toggleable__label {background-color: #d4ebff;}#sk-container-id-8 div.sk-label input.sk-toggleable__control:checked~label.sk-toggleable__label {background-color: #d4ebff;}#sk-container-id-8 input.sk-hidden--visually {border: 0;clip: rect(1px 1px 1px 1px);clip: rect(1px, 1px, 1px, 1px);height: 1px;margin: -1px;overflow: hidden;padding: 0;position: absolute;width: 1px;}#sk-container-id-8 div.sk-estimator {font-family: monospace;background-color: #f0f8ff;border: 1px dotted black;border-radius: 0.25em;box-sizing: border-box;margin-bottom: 0.5em;}#sk-container-id-8 div.sk-estimator:hover {background-color: #d4ebff;}#sk-container-id-8 div.sk-parallel-item::after {content: \"\";width: 100%;border-bottom: 1px solid gray;flex-grow: 1;}#sk-container-id-8 div.sk-label:hover label.sk-toggleable__label {background-color: #d4ebff;}#sk-container-id-8 div.sk-serial::before {content: \"\";position: absolute;border-left: 1px solid gray;box-sizing: border-box;top: 0;bottom: 0;left: 50%;z-index: 0;}#sk-container-id-8 div.sk-serial {display: flex;flex-direction: column;align-items: center;background-color: white;padding-right: 0.2em;padding-left: 0.2em;position: relative;}#sk-container-id-8 div.sk-item {position: relative;z-index: 1;}#sk-container-id-8 div.sk-parallel {display: flex;align-items: stretch;justify-content: center;background-color: white;position: relative;}#sk-container-id-8 div.sk-item::before, #sk-container-id-8 div.sk-parallel-item::before {content: \"\";position: absolute;border-left: 1px solid gray;box-sizing: border-box;top: 0;bottom: 0;left: 50%;z-index: -1;}#sk-container-id-8 div.sk-parallel-item {display: flex;flex-direction: column;z-index: 1;position: relative;background-color: white;}#sk-container-id-8 div.sk-parallel-item:first-child::after {align-self: flex-end;width: 50%;}#sk-container-id-8 div.sk-parallel-item:last-child::after {align-self: flex-start;width: 50%;}#sk-container-id-8 div.sk-parallel-item:only-child::after {width: 0;}#sk-container-id-8 div.sk-dashed-wrapped {border: 1px dashed gray;margin: 0 0.4em 0.5em 0.4em;box-sizing: border-box;padding-bottom: 0.4em;background-color: white;}#sk-container-id-8 div.sk-label label {font-family: monospace;font-weight: bold;display: inline-block;line-height: 1.2em;}#sk-container-id-8 div.sk-label-container {text-align: center;}#sk-container-id-8 div.sk-container {/* jupyter's `normalize.less` sets `[hidden] { display: none; }` but bootstrap.min.css set `[hidden] { display: none !important; }` so we also need the `!important` here to be able to override the default hidden behavior on the sphinx rendered scikit-learn.org. See: https://github.com/scikit-learn/scikit-learn/issues/21755 */display: inline-block !important;position: relative;}#sk-container-id-8 div.sk-text-repr-fallback {display: none;}</style><div id=\"sk-container-id-8\" class=\"sk-top-container\"><div class=\"sk-text-repr-fallback\"><pre>GridSearchCV(cv=160, estimator=SVR(), n_jobs=-1,\n",
              "             param_grid={&#x27;C&#x27;: [10, 20, 25, 30, 40, 50, 100, 200, 220, 250, 300,\n",
              "                               400, 500, 700, 900, 1000],\n",
              "                         &#x27;degree&#x27;: [2, 3, 5], &#x27;epsilon&#x27;: [0], &#x27;gamma&#x27;: [&#x27;auto&#x27;],\n",
              "                         &#x27;kernel&#x27;: [&#x27;rbf&#x27;]},\n",
              "             return_train_score=True, scoring=&#x27;neg_mean_squared_error&#x27;,\n",
              "             verbose=2)</pre><b>In a Jupyter environment, please rerun this cell to show the HTML representation or trust the notebook. <br />On GitHub, the HTML representation is unable to render, please try loading this page with nbviewer.org.</b></div><div class=\"sk-container\" hidden><div class=\"sk-item sk-dashed-wrapped\"><div class=\"sk-label-container\"><div class=\"sk-label sk-toggleable\"><input class=\"sk-toggleable__control sk-hidden--visually\" id=\"sk-estimator-id-22\" type=\"checkbox\" ><label for=\"sk-estimator-id-22\" class=\"sk-toggleable__label sk-toggleable__label-arrow\">GridSearchCV</label><div class=\"sk-toggleable__content\"><pre>GridSearchCV(cv=160, estimator=SVR(), n_jobs=-1,\n",
              "             param_grid={&#x27;C&#x27;: [10, 20, 25, 30, 40, 50, 100, 200, 220, 250, 300,\n",
              "                               400, 500, 700, 900, 1000],\n",
              "                         &#x27;degree&#x27;: [2, 3, 5], &#x27;epsilon&#x27;: [0], &#x27;gamma&#x27;: [&#x27;auto&#x27;],\n",
              "                         &#x27;kernel&#x27;: [&#x27;rbf&#x27;]},\n",
              "             return_train_score=True, scoring=&#x27;neg_mean_squared_error&#x27;,\n",
              "             verbose=2)</pre></div></div></div><div class=\"sk-parallel\"><div class=\"sk-parallel-item\"><div class=\"sk-item\"><div class=\"sk-label-container\"><div class=\"sk-label sk-toggleable\"><input class=\"sk-toggleable__control sk-hidden--visually\" id=\"sk-estimator-id-23\" type=\"checkbox\" ><label for=\"sk-estimator-id-23\" class=\"sk-toggleable__label sk-toggleable__label-arrow\">estimator: SVR</label><div class=\"sk-toggleable__content\"><pre>SVR()</pre></div></div></div><div class=\"sk-serial\"><div class=\"sk-item\"><div class=\"sk-estimator sk-toggleable\"><input class=\"sk-toggleable__control sk-hidden--visually\" id=\"sk-estimator-id-24\" type=\"checkbox\" ><label for=\"sk-estimator-id-24\" class=\"sk-toggleable__label sk-toggleable__label-arrow\">SVR</label><div class=\"sk-toggleable__content\"><pre>SVR()</pre></div></div></div></div></div></div></div></div></div></div>"
            ]
          },
          "metadata": {},
          "execution_count": 51
        }
      ]
    },
    {
      "cell_type": "code",
      "source": [
        "print(svr_cv_model_test.best_params_)\n",
        "print(svr_cv_model_test.best_score_)\n",
        "print(np.sqrt(abs(svr_cv_model_test.best_score_).mean()))"
      ],
      "metadata": {
        "colab": {
          "base_uri": "https://localhost:8080/"
        },
        "id": "7csIRY6ofeTC",
        "outputId": "8e75da82-55c6-469b-f2a2-ad56a5d1db68"
      },
      "execution_count": 52,
      "outputs": [
        {
          "output_type": "stream",
          "name": "stdout",
          "text": [
            "{'C': 900, 'degree': 2, 'epsilon': 0, 'gamma': 'auto', 'kernel': 'rbf'}\n",
            "-0.3785721293881743\n",
            "0.6152821542903502\n"
          ]
        }
      ]
    },
    {
      "cell_type": "markdown",
      "source": [
        "## **Model 4: Decision Tree**"
      ],
      "metadata": {
        "id": "iyuPAAZ6gMLs"
      }
    },
    {
      "cell_type": "code",
      "source": [
        "# Baseline Tree Model\n",
        "tree_model = DecisionTreeRegressor(random_state = 42)\n",
        "tree_model.fit(X_train, y_train)\n",
        "rmse_dt_baseline, r2_dt_baseline = evaluate_score(tree_model, X_train, y_train)"
      ],
      "metadata": {
        "colab": {
          "base_uri": "https://localhost:8080/"
        },
        "id": "cNj_qN6bfTSA",
        "outputId": "a811ed35-2303-47f1-898a-cc60ef7c9d23"
      },
      "execution_count": 56,
      "outputs": [
        {
          "output_type": "stream",
          "name": "stdout",
          "text": [
            "RMSE: 0.0 \n",
            "R2: 100.0\n"
          ]
        }
      ]
    },
    {
      "cell_type": "markdown",
      "source": [
        "**Insights**\n",
        "- Baseline Model looks **OVERFIT** !!!!\n"
      ],
      "metadata": {
        "id": "qRoRE7O3k_wm"
      }
    },
    {
      "cell_type": "markdown",
      "source": [
        "### Hyperparamer Tunning"
      ],
      "metadata": {
        "id": "v-x3UQkJhKif"
      }
    },
    {
      "cell_type": "code",
      "source": [
        "param_grid = {\n",
        "    'criterion': ['squared_error', 'absolute_error'],\n",
        "    'splitter': ['best', 'random'],\n",
        "    'max_depth': [2, 5, 10, 15, 20, 30, 40, 50],\n",
        "    'min_samples_leaf': [1, 2, 5, 10, 15, 20],\n",
        "    'max_features': ['auto', 'sqrt', 'log2'],\n",
        "    'random_state': [42]\n",
        "}\n",
        "\n",
        "dt_cv_model = GridSearchCV(estimator=DecisionTreeRegressor(), param_grid=param_grid,cv=len(X_train),scoring='neg_mean_squared_error', return_train_score=True, n_jobs=-1,verbose=2)\n",
        "dt_cv_model.fit(X_train, y_train)"
      ],
      "metadata": {
        "colab": {
          "base_uri": "https://localhost:8080/",
          "height": 170
        },
        "id": "RkKR8Y7zhHTv",
        "outputId": "335890c4-5cec-4274-9cc8-5364d38190ca"
      },
      "execution_count": 60,
      "outputs": [
        {
          "output_type": "stream",
          "name": "stdout",
          "text": [
            "Fitting 160 folds for each of 576 candidates, totalling 92160 fits\n"
          ]
        },
        {
          "output_type": "stream",
          "name": "stderr",
          "text": [
            "/usr/local/lib/python3.10/dist-packages/sklearn/tree/_classes.py:277: FutureWarning: `max_features='auto'` has been deprecated in 1.1 and will be removed in 1.3. To keep the past behaviour, explicitly set `max_features=1.0'`.\n",
            "  warnings.warn(\n"
          ]
        },
        {
          "output_type": "execute_result",
          "data": {
            "text/plain": [
              "GridSearchCV(cv=160, estimator=DecisionTreeRegressor(), n_jobs=-1,\n",
              "             param_grid={'criterion': ['squared_error', 'absolute_error'],\n",
              "                         'max_depth': [2, 5, 10, 15, 20, 30, 40, 50],\n",
              "                         'max_features': ['auto', 'sqrt', 'log2'],\n",
              "                         'min_samples_leaf': [1, 2, 5, 10, 15, 20],\n",
              "                         'random_state': [42], 'splitter': ['best', 'random']},\n",
              "             return_train_score=True, scoring='neg_mean_squared_error',\n",
              "             verbose=2)"
            ],
            "text/html": [
              "<style>#sk-container-id-9 {color: black;background-color: white;}#sk-container-id-9 pre{padding: 0;}#sk-container-id-9 div.sk-toggleable {background-color: white;}#sk-container-id-9 label.sk-toggleable__label {cursor: pointer;display: block;width: 100%;margin-bottom: 0;padding: 0.3em;box-sizing: border-box;text-align: center;}#sk-container-id-9 label.sk-toggleable__label-arrow:before {content: \"▸\";float: left;margin-right: 0.25em;color: #696969;}#sk-container-id-9 label.sk-toggleable__label-arrow:hover:before {color: black;}#sk-container-id-9 div.sk-estimator:hover label.sk-toggleable__label-arrow:before {color: black;}#sk-container-id-9 div.sk-toggleable__content {max-height: 0;max-width: 0;overflow: hidden;text-align: left;background-color: #f0f8ff;}#sk-container-id-9 div.sk-toggleable__content pre {margin: 0.2em;color: black;border-radius: 0.25em;background-color: #f0f8ff;}#sk-container-id-9 input.sk-toggleable__control:checked~div.sk-toggleable__content {max-height: 200px;max-width: 100%;overflow: auto;}#sk-container-id-9 input.sk-toggleable__control:checked~label.sk-toggleable__label-arrow:before {content: \"▾\";}#sk-container-id-9 div.sk-estimator input.sk-toggleable__control:checked~label.sk-toggleable__label {background-color: #d4ebff;}#sk-container-id-9 div.sk-label input.sk-toggleable__control:checked~label.sk-toggleable__label {background-color: #d4ebff;}#sk-container-id-9 input.sk-hidden--visually {border: 0;clip: rect(1px 1px 1px 1px);clip: rect(1px, 1px, 1px, 1px);height: 1px;margin: -1px;overflow: hidden;padding: 0;position: absolute;width: 1px;}#sk-container-id-9 div.sk-estimator {font-family: monospace;background-color: #f0f8ff;border: 1px dotted black;border-radius: 0.25em;box-sizing: border-box;margin-bottom: 0.5em;}#sk-container-id-9 div.sk-estimator:hover {background-color: #d4ebff;}#sk-container-id-9 div.sk-parallel-item::after {content: \"\";width: 100%;border-bottom: 1px solid gray;flex-grow: 1;}#sk-container-id-9 div.sk-label:hover label.sk-toggleable__label {background-color: #d4ebff;}#sk-container-id-9 div.sk-serial::before {content: \"\";position: absolute;border-left: 1px solid gray;box-sizing: border-box;top: 0;bottom: 0;left: 50%;z-index: 0;}#sk-container-id-9 div.sk-serial {display: flex;flex-direction: column;align-items: center;background-color: white;padding-right: 0.2em;padding-left: 0.2em;position: relative;}#sk-container-id-9 div.sk-item {position: relative;z-index: 1;}#sk-container-id-9 div.sk-parallel {display: flex;align-items: stretch;justify-content: center;background-color: white;position: relative;}#sk-container-id-9 div.sk-item::before, #sk-container-id-9 div.sk-parallel-item::before {content: \"\";position: absolute;border-left: 1px solid gray;box-sizing: border-box;top: 0;bottom: 0;left: 50%;z-index: -1;}#sk-container-id-9 div.sk-parallel-item {display: flex;flex-direction: column;z-index: 1;position: relative;background-color: white;}#sk-container-id-9 div.sk-parallel-item:first-child::after {align-self: flex-end;width: 50%;}#sk-container-id-9 div.sk-parallel-item:last-child::after {align-self: flex-start;width: 50%;}#sk-container-id-9 div.sk-parallel-item:only-child::after {width: 0;}#sk-container-id-9 div.sk-dashed-wrapped {border: 1px dashed gray;margin: 0 0.4em 0.5em 0.4em;box-sizing: border-box;padding-bottom: 0.4em;background-color: white;}#sk-container-id-9 div.sk-label label {font-family: monospace;font-weight: bold;display: inline-block;line-height: 1.2em;}#sk-container-id-9 div.sk-label-container {text-align: center;}#sk-container-id-9 div.sk-container {/* jupyter's `normalize.less` sets `[hidden] { display: none; }` but bootstrap.min.css set `[hidden] { display: none !important; }` so we also need the `!important` here to be able to override the default hidden behavior on the sphinx rendered scikit-learn.org. See: https://github.com/scikit-learn/scikit-learn/issues/21755 */display: inline-block !important;position: relative;}#sk-container-id-9 div.sk-text-repr-fallback {display: none;}</style><div id=\"sk-container-id-9\" class=\"sk-top-container\"><div class=\"sk-text-repr-fallback\"><pre>GridSearchCV(cv=160, estimator=DecisionTreeRegressor(), n_jobs=-1,\n",
              "             param_grid={&#x27;criterion&#x27;: [&#x27;squared_error&#x27;, &#x27;absolute_error&#x27;],\n",
              "                         &#x27;max_depth&#x27;: [2, 5, 10, 15, 20, 30, 40, 50],\n",
              "                         &#x27;max_features&#x27;: [&#x27;auto&#x27;, &#x27;sqrt&#x27;, &#x27;log2&#x27;],\n",
              "                         &#x27;min_samples_leaf&#x27;: [1, 2, 5, 10, 15, 20],\n",
              "                         &#x27;random_state&#x27;: [42], &#x27;splitter&#x27;: [&#x27;best&#x27;, &#x27;random&#x27;]},\n",
              "             return_train_score=True, scoring=&#x27;neg_mean_squared_error&#x27;,\n",
              "             verbose=2)</pre><b>In a Jupyter environment, please rerun this cell to show the HTML representation or trust the notebook. <br />On GitHub, the HTML representation is unable to render, please try loading this page with nbviewer.org.</b></div><div class=\"sk-container\" hidden><div class=\"sk-item sk-dashed-wrapped\"><div class=\"sk-label-container\"><div class=\"sk-label sk-toggleable\"><input class=\"sk-toggleable__control sk-hidden--visually\" id=\"sk-estimator-id-25\" type=\"checkbox\" ><label for=\"sk-estimator-id-25\" class=\"sk-toggleable__label sk-toggleable__label-arrow\">GridSearchCV</label><div class=\"sk-toggleable__content\"><pre>GridSearchCV(cv=160, estimator=DecisionTreeRegressor(), n_jobs=-1,\n",
              "             param_grid={&#x27;criterion&#x27;: [&#x27;squared_error&#x27;, &#x27;absolute_error&#x27;],\n",
              "                         &#x27;max_depth&#x27;: [2, 5, 10, 15, 20, 30, 40, 50],\n",
              "                         &#x27;max_features&#x27;: [&#x27;auto&#x27;, &#x27;sqrt&#x27;, &#x27;log2&#x27;],\n",
              "                         &#x27;min_samples_leaf&#x27;: [1, 2, 5, 10, 15, 20],\n",
              "                         &#x27;random_state&#x27;: [42], &#x27;splitter&#x27;: [&#x27;best&#x27;, &#x27;random&#x27;]},\n",
              "             return_train_score=True, scoring=&#x27;neg_mean_squared_error&#x27;,\n",
              "             verbose=2)</pre></div></div></div><div class=\"sk-parallel\"><div class=\"sk-parallel-item\"><div class=\"sk-item\"><div class=\"sk-label-container\"><div class=\"sk-label sk-toggleable\"><input class=\"sk-toggleable__control sk-hidden--visually\" id=\"sk-estimator-id-26\" type=\"checkbox\" ><label for=\"sk-estimator-id-26\" class=\"sk-toggleable__label sk-toggleable__label-arrow\">estimator: DecisionTreeRegressor</label><div class=\"sk-toggleable__content\"><pre>DecisionTreeRegressor()</pre></div></div></div><div class=\"sk-serial\"><div class=\"sk-item\"><div class=\"sk-estimator sk-toggleable\"><input class=\"sk-toggleable__control sk-hidden--visually\" id=\"sk-estimator-id-27\" type=\"checkbox\" ><label for=\"sk-estimator-id-27\" class=\"sk-toggleable__label sk-toggleable__label-arrow\">DecisionTreeRegressor</label><div class=\"sk-toggleable__content\"><pre>DecisionTreeRegressor()</pre></div></div></div></div></div></div></div></div></div></div>"
            ]
          },
          "metadata": {},
          "execution_count": 60
        }
      ]
    },
    {
      "cell_type": "code",
      "source": [
        "print(dt_cv_model.best_params_)\n",
        "print(dt_cv_model.best_score_)\n",
        "print(np.sqrt(abs(dt_cv_model.best_score_).mean()))"
      ],
      "metadata": {
        "colab": {
          "base_uri": "https://localhost:8080/"
        },
        "id": "PKf6kNE8lH7M",
        "outputId": "e3bb33fe-eecb-4f48-8bf4-88aba077cc79"
      },
      "execution_count": 62,
      "outputs": [
        {
          "output_type": "stream",
          "name": "stdout",
          "text": [
            "{'criterion': 'absolute_error', 'max_depth': 15, 'max_features': 'auto', 'min_samples_leaf': 1, 'random_state': 42, 'splitter': 'best'}\n",
            "-1.4966875\n",
            "1.2233918015092302\n"
          ]
        }
      ]
    },
    {
      "cell_type": "markdown",
      "source": [
        "## **Model 5: Random Forest**"
      ],
      "metadata": {
        "id": "AVVv3viXnaMN"
      }
    },
    {
      "cell_type": "code",
      "source": [
        "# RandomForest Model\n",
        "rf_model = RandomForestRegressor(random_state = 42)\n",
        "rf_model.fit(X_train, y_train)\n",
        "rmse_rf_baseline, r2_rf_baseline = evaluate_score(rf_model, X_train, y_train)"
      ],
      "metadata": {
        "colab": {
          "base_uri": "https://localhost:8080/"
        },
        "id": "y6eq-Fvsnd1c",
        "outputId": "7855debd-df1e-46e3-ce3a-64c251ddd120"
      },
      "execution_count": 64,
      "outputs": [
        {
          "output_type": "stream",
          "name": "stdout",
          "text": [
            "RMSE: 0.30780258486568945 \n",
            "R2: 99.63471037158416\n"
          ]
        }
      ]
    },
    {
      "cell_type": "markdown",
      "source": [
        "### Hyperparameter Tunning"
      ],
      "metadata": {
        "id": "2jAaDkZUoC5f"
      }
    },
    {
      "cell_type": "code",
      "source": [
        "param_grid = {\n",
        "    'n_estimators': [1, 2, 5, 10, 15, 20, 30, 50, 100],\n",
        "    'criterion': ['squared_error', 'absolute_error'],\n",
        "    'max_depth': [2, 5, 10, 15, 20, 30, 40, 50],\n",
        "    'min_samples_leaf': [1, 2, 5, 10, 15, 20],\n",
        "    'max_features': ['auto', 'sqrt', 'log2'],\n",
        "    'random_state': [42],\n",
        "    'bootstrap': [True, False],\n",
        "    'oob_score': [True, False]\n",
        "}\n",
        "\n",
        "rf_cv_model = GridSearchCV(estimator=RandomForestRegressor(), param_grid=param_grid,cv=len(X_train),scoring='neg_mean_squared_error', return_train_score=True, n_jobs=-1,verbose=2)\n",
        "rf_cv_model.fit(X_train, y_train)"
      ],
      "metadata": {
        "colab": {
          "base_uri": "https://localhost:8080/"
        },
        "id": "syBrKlSAn-0T",
        "outputId": "d8731805-9835-4418-d805-b11cb3c18192"
      },
      "execution_count": null,
      "outputs": [
        {
          "output_type": "stream",
          "name": "stdout",
          "text": [
            "Fitting 160 folds for each of 10368 candidates, totalling 1658880 fits\n"
          ]
        }
      ]
    },
    {
      "cell_type": "code",
      "source": [
        "print(rf_cv_model.best_params_)\n",
        "print(rf_cv_model.best_score_)\n",
        "print(np.sqrt(abs(rf_cv_model.best_score_).mean()))"
      ],
      "metadata": {
        "id": "efHbcwqKppsC"
      },
      "execution_count": null,
      "outputs": []
    },
    {
      "cell_type": "markdown",
      "metadata": {
        "id": "75AJ3gSvxFq0"
      },
      "source": [
        "## **Evaluate Model**"
      ]
    },
    {
      "cell_type": "markdown",
      "metadata": {
        "id": "n3KJvmFAxNDi"
      },
      "source": [
        "## **Model 2: Polynomial Regression Model**"
      ]
    },
    {
      "cell_type": "code",
      "execution_count": null,
      "metadata": {
        "colab": {
          "base_uri": "https://localhost:8080/"
        },
        "id": "30Yihht3xHuj",
        "outputId": "daa3ec92-488d-412c-aebf-d8cc2f36c4c5"
      },
      "outputs": [
        {
          "name": "stdout",
          "output_type": "stream",
          "text": [
            "RMSE: 0.6425809120553642 \n",
            "R2: 98.69181490609603\n"
          ]
        }
      ],
      "source": [
        "# Prepare test set\n",
        "X_test_poly_scaled = poly_scaler.transform(X_test_poly)\n",
        "rmse_poly_reg, r2_poly_reg = evaluate_score(en_cv_model, X_test_poly_scaled, y_test_poly)"
      ]
    },
    {
      "cell_type": "markdown",
      "source": [
        "## **Model 3: SVM**"
      ],
      "metadata": {
        "id": "rwpBbhe4fqnE"
      }
    },
    {
      "cell_type": "code",
      "source": [
        "X_test_scaled = pipe.transform(X_test)\n",
        "rmse_svr, r2_svr = evaluate_score(svr_cv_model_test, X_test_scaled, y_test)"
      ],
      "metadata": {
        "colab": {
          "base_uri": "https://localhost:8080/"
        },
        "id": "Pp3UgEwRfvV0",
        "outputId": "6859eba9-942a-47c8-a6b0-0868a708c8f7"
      },
      "execution_count": 54,
      "outputs": [
        {
          "output_type": "stream",
          "name": "stdout",
          "text": [
            "RMSE: 0.5779133356895065 \n",
            "R2: 98.94187009814821\n"
          ]
        }
      ]
    },
    {
      "cell_type": "markdown",
      "source": [
        "## **Model 4: Decision Tree**"
      ],
      "metadata": {
        "id": "vSbyhqT3ksp8"
      }
    },
    {
      "cell_type": "code",
      "source": [
        "rmse_dt, r2_dt = evaluate_score(dt_cv_model, X_test, y_test)"
      ],
      "metadata": {
        "colab": {
          "base_uri": "https://localhost:8080/"
        },
        "id": "SQ938d5ekwPU",
        "outputId": "4fed7882-f9d7-41e9-e97b-4f02b7fa6b83"
      },
      "execution_count": 63,
      "outputs": [
        {
          "output_type": "stream",
          "name": "stdout",
          "text": [
            "RMSE: 1.494908023926556 \n",
            "R2: 92.91984931215255\n"
          ]
        }
      ]
    },
    {
      "cell_type": "markdown",
      "source": [
        "## **Model 5: Random Forest**"
      ],
      "metadata": {
        "id": "jj8i5O-1ofqZ"
      }
    },
    {
      "cell_type": "code",
      "source": [
        "rmse_rf, r2_rf = evaluate_score(rf_cv_model, X_test, y_test)"
      ],
      "metadata": {
        "id": "2mmMz7TMojIA"
      },
      "execution_count": null,
      "outputs": []
    },
    {
      "cell_type": "markdown",
      "source": [
        "## **Conclustion**:"
      ],
      "metadata": {
        "id": "NN7USL41qCDo"
      }
    }
  ],
  "metadata": {
    "colab": {
      "provenance": [],
      "authorship_tag": "ABX9TyNPLN9cE9NsqkHP4Vs1ru7R",
      "include_colab_link": true
    },
    "kernelspec": {
      "display_name": "Python 3",
      "name": "python3"
    },
    "language_info": {
      "name": "python"
    }
  },
  "nbformat": 4,
  "nbformat_minor": 0
}